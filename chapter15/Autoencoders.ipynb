{
 "cells": [
  {
   "cell_type": "code",
   "execution_count": 1,
   "metadata": {},
   "outputs": [],
   "source": [
    "from __future__ import division, print_function, unicode_literals\n",
    "\n",
    "import numpy as np \n",
    "import os \n",
    "import sys \n",
    "\n",
    "def reset_graph(seed=42):\n",
    "    tf.reset_default_graph()\n",
    "    tf.set_random_seed(seed)\n",
    "    np.random.seed(seed)\n",
    "    \n",
    "%matplotlib inline\n",
    "import matplotlib\n",
    "import matplotlib.pyplot as plt\n",
    "plt.rcParams['axes.labelsize'] = 14\n",
    "plt.rcParams['xtick.labelsize'] = 12 \n",
    "plt.rcParams['ytick.labelsize'] = 12 \n"
   ]
  },
  {
   "cell_type": "code",
   "execution_count": 2,
   "metadata": {},
   "outputs": [],
   "source": [
    "def plot_image(image, shape=[28, 28]):\n",
    "    plt.imshow(image.reshape(shape), cmap=\"Greys\", interpolation=\"nearest\")\n",
    "    plt.axis(\"off\")"
   ]
  },
  {
   "cell_type": "code",
   "execution_count": 3,
   "metadata": {},
   "outputs": [],
   "source": [
    "def plot_multiple_images(images, n_rows, n_cols, pad=2):\n",
    "    images = images - images.min()  \n",
    "    w,h = images.shape[1:]\n",
    "    image = np.zeros(((w+pad)*n_rows+pad, (h+pad)*n_cols+pad))\n",
    "    for y in range(n_rows):\n",
    "        for x in range(n_cols):\n",
    "            image[(y*(h+pad)+pad):(y*(h+pad)+pad+h),(x*(w+pad)+pad):(x*(w+pad)+pad+w)] = images[y*n_cols+x]\n",
    "    plt.imshow(image, cmap=\"Greys\", interpolation=\"nearest\")\n",
    "    plt.axis(\"off\")"
   ]
  },
  {
   "cell_type": "code",
   "execution_count": 4,
   "metadata": {},
   "outputs": [],
   "source": [
    "import numpy.random as rnd\n",
    "\n",
    "rnd.seed(4)\n",
    "m = 200 \n",
    "w1, w2, = 0.1, 0.3\n",
    "noise = 0.1\n",
    "\n",
    "angles = rnd.rand(m) * 3 * np.pi / 2 - 0.5\n",
    "data = np.empty((m, 3))\n",
    "data[:, 0] = np.cos(angles) + np.sin(angles)/2 + noise * rnd.randn(m)/2\n",
    "data[:, 1] = np.sin(angles) + 0.7 + noise * rnd.randn(m) / 2\n",
    "data[:, 2] = data[:, 0] * w1 + data[:, 1] * w2 + noise * rnd.randn(m)"
   ]
  },
  {
   "cell_type": "code",
   "execution_count": 5,
   "metadata": {},
   "outputs": [],
   "source": [
    "from sklearn.preprocessing import StandardScaler\n",
    "scaler = StandardScaler()\n",
    "X_train = scaler.fit_transform(data[:100])\n",
    "X_test = scaler.transform(data[100:])"
   ]
  },
  {
   "cell_type": "code",
   "execution_count": 6,
   "metadata": {},
   "outputs": [],
   "source": [
    "import tensorflow as tf\n",
    "reset_graph()\n",
    "\n",
    "n_inputs = 3 \n",
    "n_hidden = 2 \n",
    "n_outputs = n_inputs\n",
    "\n",
    "learning_rate = 0.01\n",
    "X = tf.placeholder(tf.float32, shape=[None, n_inputs])\n",
    "hidden = tf.layers.dense(X, n_hidden)\n",
    "outputs = tf.layers.dense(hidden, n_outputs)\n",
    "\n",
    "reconstruction_loss = tf.reduce_mean(tf.square(outputs - X))\n",
    "\n",
    "optimizer = tf.train.AdamOptimizer(learning_rate)\n",
    "training_op = optimizer.minimize(reconstruction_loss)\n",
    "\n",
    "init = tf.global_variables_initializer()"
   ]
  },
  {
   "cell_type": "code",
   "execution_count": 7,
   "metadata": {},
   "outputs": [],
   "source": [
    "n_iterations = 1000\n",
    "codings = hidden \n",
    "\n",
    "with tf.Session() as sess:\n",
    "    init.run()\n",
    "    for iteration in range(n_iterations):\n",
    "        training_op.run(feed_dict={X:X_train})\n",
    "    codings_val = codings.eval(feed_dict={X: X_test})"
   ]
  },
  {
   "cell_type": "code",
   "execution_count": 8,
   "metadata": {},
   "outputs": [
    {
     "data": {
      "image/png": "[encoded data removed]",
      "text/plain": [
       "<Figure size 576x432 with 1 Axes>"
      ]
     },
     "metadata": {
      "needs_background": "light"
     },
     "output_type": "display_data"
    }
   ],
   "source": [
    "fig = plt.figure(figsize=(8,6))\n",
    "plt.plot(codings_val[:, 0], codings_val[:, 1],\"b.\")\n",
    "plt.xlabel(\"$z_1$\",fontsize=18)\n",
    "plt.ylabel(\"$z_2$\",fontsize=18, rotation=0)\n",
    "plt.show()"
   ]
  },
  {
   "cell_type": "code",
   "execution_count": 9,
   "metadata": {},
   "outputs": [
    {
     "name": "stdout",
     "output_type": "stream",
     "text": [
      "WARNING:tensorflow:From <ipython-input-9-7187608d1af6>:2: read_data_sets (from tensorflow.contrib.learn.python.learn.datasets.mnist) is deprecated and will be removed in a future version.\n",
      "Instructions for updating:\n",
      "Please use alternatives such as official/mnist/dataset.py from tensorflow/models.\n",
      "WARNING:tensorflow:From C:\\Users\\B_Majda\\Anaconda3\\envs\\tensorflow\\lib\\site-packages\\tensorflow\\contrib\\learn\\python\\learn\\datasets\\mnist.py:260: maybe_download (from tensorflow.contrib.learn.python.learn.datasets.base) is deprecated and will be removed in a future version.\n",
      "Instructions for updating:\n",
      "Please write your own downloading logic.\n",
      "WARNING:tensorflow:From C:\\Users\\B_Majda\\Anaconda3\\envs\\tensorflow\\lib\\site-packages\\tensorflow\\contrib\\learn\\python\\learn\\datasets\\mnist.py:262: extract_images (from tensorflow.contrib.learn.python.learn.datasets.mnist) is deprecated and will be removed in a future version.\n",
      "Instructions for updating:\n",
      "Please use tf.data to implement this functionality.\n",
      "Extracting /tmp/data\\train-images-idx3-ubyte.gz\n",
      "WARNING:tensorflow:From C:\\Users\\B_Majda\\Anaconda3\\envs\\tensorflow\\lib\\site-packages\\tensorflow\\contrib\\learn\\python\\learn\\datasets\\mnist.py:267: extract_labels (from tensorflow.contrib.learn.python.learn.datasets.mnist) is deprecated and will be removed in a future version.\n",
      "Instructions for updating:\n",
      "Please use tf.data to implement this functionality.\n",
      "Extracting /tmp/data\\train-labels-idx1-ubyte.gz\n",
      "Extracting /tmp/data\\t10k-images-idx3-ubyte.gz\n",
      "Extracting /tmp/data\\t10k-labels-idx1-ubyte.gz\n",
      "WARNING:tensorflow:From C:\\Users\\B_Majda\\Anaconda3\\envs\\tensorflow\\lib\\site-packages\\tensorflow\\contrib\\learn\\python\\learn\\datasets\\mnist.py:290: DataSet.__init__ (from tensorflow.contrib.learn.python.learn.datasets.mnist) is deprecated and will be removed in a future version.\n",
      "Instructions for updating:\n",
      "Please use alternatives such as official/mnist/dataset.py from tensorflow/models.\n"
     ]
    }
   ],
   "source": [
    "from tensorflow.examples.tutorials.mnist import input_data\n",
    "mnist = input_data.read_data_sets(\"/tmp/data\")"
   ]
  },
  {
   "cell_type": "code",
   "execution_count": 10,
   "metadata": {},
   "outputs": [],
   "source": [
    "reset_graph()\n",
    "\n",
    "from functools import partial\n",
    "\n",
    "n_inputs = 28 * 28\n",
    "n_hidden1 = 300\n",
    "n_hidden2 = 150 \n",
    "n_hidden3 = n_hidden1\n",
    "n_outputs = n_inputs\n",
    "\n",
    "learning_rate = 0.01\n",
    "l2_reg = 0.0001\n",
    "\n",
    "X = tf.placeholder(tf.float32, shape=[None, n_inputs])\n",
    "\n",
    "he_init = tf.contrib.layers.variance_scaling_initializer()\n",
    "l2_regularizer = tf.contrib.layers.l2_regularizer(l2_reg)\n",
    "\n",
    "my_dense_layer = partial(tf.layers.dense, activation=tf.nn.elu,\n",
    "                        kernel_initializer = he_init, kernel_regularizer = l2_regularizer)\n",
    "\n",
    "hidden1 = my_dense_layer(X, n_hidden1)\n",
    "hidden2 = my_dense_layer(hidden1, n_hidden2)\n",
    "hidden3 = my_dense_layer(hidden2, n_hidden3)\n",
    "outputs = my_dense_layer(hidden3, n_outputs, activation=None)\n",
    "\n",
    "reconstruction_loss = tf.reduce_mean(tf.square(outputs - X))\n",
    "\n",
    "reg_losses = tf.get_collection(tf.GraphKeys.REGULARIZATION_LOSSES)\n",
    "loss = tf.add_n([reconstruction_loss] + reg_losses)\n",
    "\n",
    "optimizer = tf.train.AdamOptimizer(learning_rate)\n",
    "training_op = optimizer.minimize(loss)\n",
    "\n",
    "init = tf.global_variables_initializer()\n",
    "saver = tf.train.Saver()"
   ]
  },
  {
   "cell_type": "code",
   "execution_count": 11,
   "metadata": {},
   "outputs": [
    {
     "name": "stdout",
     "output_type": "stream",
     "text": [
      "0 Train MSE: 0.020838017\n",
      "1 Train MSE: 0.011431395\n",
      "2 Train MSE: 0.010222826\n",
      "3 Train MSE: 0.009902363\n",
      "4 Train MSE: 0.01037279\n"
     ]
    }
   ],
   "source": [
    "n_epochs = 5\n",
    "batch_size = 150\n",
    "\n",
    "with tf.Session() as sess:\n",
    "    init.run()\n",
    "    for epoch in range(n_epochs):\n",
    "        n_batches = mnist.train.num_examples // batch_size\n",
    "        for iteration in range(n_batches):\n",
    "            print(\"\\r{}%\".format(100 * iteration // n_batches), end=\"\") \n",
    "            sys.stdout.flush()                                         \n",
    "            X_batch, y_batch = mnist.train.next_batch(batch_size)\n",
    "            sess.run(training_op, feed_dict={X: X_batch})\n",
    "        loss_train = reconstruction_loss.eval(feed_dict={X: X_batch})   \n",
    "        print(\"\\r{}\".format(epoch), \"Train MSE:\", loss_train)           \n",
    "        saver.save(sess, \"./my_model_all_layers.ckpt\")                  "
   ]
  },
  {
   "cell_type": "code",
   "execution_count": 12,
   "metadata": {},
   "outputs": [],
   "source": [
    "def show_reconstructed_digits(X, outputs, model_path = None, n_test_digits = 4):\n",
    "    with tf.Session() as sess:\n",
    "        if model_path:\n",
    "            saver.restore(sess, model_path)\n",
    "        X_test = mnist.test.images[:n_test_digits]\n",
    "        outputs_val = outputs.eval(feed_dict={X: X_test})\n",
    "\n",
    "    fig = plt.figure(figsize=(8, 3 * n_test_digits))\n",
    "    for digit_index in range(n_test_digits):\n",
    "        plt.subplot(n_test_digits, 2, digit_index * 2 + 1)\n",
    "        plot_image(X_test[digit_index])\n",
    "        plt.subplot(n_test_digits, 2, digit_index * 2 + 2)\n",
    "        plot_image(outputs_val[digit_index])"
   ]
  },
  {
   "cell_type": "code",
   "execution_count": 13,
   "metadata": {},
   "outputs": [
    {
     "name": "stdout",
     "output_type": "stream",
     "text": [
      "INFO:tensorflow:Restoring parameters from ./my_model_all_layers.ckpt\n"
     ]
    },
    {
     "data": {
      "image/png": "[encoded data removed]",
      "text/plain": [
       "<Figure size 576x864 with 8 Axes>"
      ]
     },
     "metadata": {
      "needs_background": "light"
     },
     "output_type": "display_data"
    }
   ],
   "source": [
    "show_reconstructed_digits(X, outputs, \"./my_model_all_layers.ckpt\")"
   ]
  },
  {
   "cell_type": "code",
   "execution_count": 14,
   "metadata": {},
   "outputs": [],
   "source": [
    "reset_graph()\n",
    "\n",
    "n_inputs = 28 * 28\n",
    "n_hidden1 = 300\n",
    "n_hidden2 = 150 \n",
    "n_hidden3 = n_hidden1\n",
    "n_outputs = n_inputs\n",
    "\n",
    "learning_rate = 0.01 \n",
    "l2_reg = 0.0005"
   ]
  },
  {
   "cell_type": "code",
   "execution_count": 15,
   "metadata": {},
   "outputs": [],
   "source": [
    "activation = tf.nn.elu\n",
    "regularizer = tf.contrib.layers.l2_regularizer(l2_reg)\n",
    "initializer = tf.contrib.layers.variance_scaling_initializer()\n",
    "\n",
    "X = tf.placeholder(tf.float32, shape=[None, n_inputs])\n",
    "weights1_init = initializer([n_inputs, n_hidden1])\n",
    "weights2_init = initializer([n_hidden1, n_hidden2])\n",
    "\n",
    "weights1 = tf.Variable(weights1_init, dtype=tf.float32, name=\"weights1\")\n",
    "weights2 = tf.Variable(weights2_init, dtype=tf.float32, name=\"weights2\")\n",
    "weights3 = tf.transpose(weights2, name=\"weights3\")\n",
    "weights4 = tf.transpose(weights1, name=\"weights4\")\n",
    "\n",
    "biases1 = tf.Variable(tf.zeros(n_hidden1), name=\"biases1\")\n",
    "biases2 = tf.Variable(tf.zeros(n_hidden2), name=\"biases2\")\n",
    "biases3 = tf.Variable(tf.zeros(n_hidden3), name=\"biases3\")\n",
    "biases4 = tf.Variable(tf.zeros(n_outputs), name=\"biases4\")\n",
    "\n",
    "hidden1 = activation(tf.matmul(X, weights1) + biases1)\n",
    "hidden2 = activation(tf.matmul(hidden1, weights2) + biases2)\n",
    "hidden3 = activation(tf.matmul(hidden2, weights3) + biases3)\n",
    "outputs = tf.matmul(hidden3, weights4) + biases4\n",
    "\n",
    "reconstruction_loss = tf.reduce_mean(tf.square(outputs - X))\n",
    "reg_loss = regularizer(weights1) + regularizer(weights2)\n",
    "loss = reconstruction_loss + reg_loss\n",
    "\n",
    "optimizer = tf.train.AdamOptimizer(learning_rate)\n",
    "training_op = optimizer.minimize(loss)\n",
    "\n",
    "init = tf.global_variables_initializer()"
   ]
  },
  {
   "cell_type": "code",
   "execution_count": 16,
   "metadata": {},
   "outputs": [],
   "source": [
    "saver = tf.train.Saver()"
   ]
  },
  {
   "cell_type": "code",
   "execution_count": 17,
   "metadata": {},
   "outputs": [
    {
     "name": "stdout",
     "output_type": "stream",
     "text": [
      "0 Train MSE: 0.015066945\n",
      "1 Train MSE: 0.016488744\n",
      "2 Train MSE: 0.017375935\n",
      "3 Train MSE: 0.01687833\n",
      "4 Train MSE: 0.015587721\n"
     ]
    }
   ],
   "source": [
    "n_epochs = 5\n",
    "batch_size = 150 \n",
    "\n",
    "with tf.Session() as sess:\n",
    "    init.run()\n",
    "    for epoch in range(n_epochs):\n",
    "        n_batches = mnist.train.num_examples // batch_size\n",
    "        for iteration in range(n_batches):\n",
    "            print(\"\\r{}%\".format(100 * iteration // n_batches), end=\"\")\n",
    "            sys.stdout.flush()\n",
    "            X_batch, y_batch = mnist.train.next_batch(batch_size)\n",
    "            sess.run(training_op, feed_dict={X:X_batch})\n",
    "        loss_train = reconstruction_loss.eval(feed_dict={X:X_batch})\n",
    "        print(\"\\r{}\".format(epoch),\"Train MSE:\", loss_train)\n",
    "        saver.save(sess,\"./my_model_tying_weights.ckpt\")"
   ]
  },
  {
   "cell_type": "code",
   "execution_count": 18,
   "metadata": {},
   "outputs": [
    {
     "name": "stdout",
     "output_type": "stream",
     "text": [
      "INFO:tensorflow:Restoring parameters from ./my_model_tying_weights.ckpt\n"
     ]
    },
    {
     "data": {
      "image/png": "[encoded data removed]",
      "text/plain": [
       "<Figure size 576x864 with 8 Axes>"
      ]
     },
     "metadata": {
      "needs_background": "light"
     },
     "output_type": "display_data"
    }
   ],
   "source": [
    "show_reconstructed_digits(X, outputs, \"./my_model_tying_weights.ckpt\")"
   ]
  },
  {
   "cell_type": "code",
   "execution_count": 19,
   "metadata": {},
   "outputs": [],
   "source": [
    "reset_graph()\n",
    "\n",
    "from functools import partial\n",
    "\n",
    "def train_autoencoder(X_train, n_neurons, n_epochs, batch_size,\n",
    "                      learning_rate = 0.01, l2_reg = 0.0005, seed=42,\n",
    "                      hidden_activation=tf.nn.elu,\n",
    "                      output_activation=tf.nn.elu):\n",
    "    graph = tf.Graph()\n",
    "    with graph.as_default():\n",
    "        tf.set_random_seed(seed)\n",
    "\n",
    "        n_inputs = X_train.shape[1]\n",
    "\n",
    "        X = tf.placeholder(tf.float32, shape=[None, n_inputs])\n",
    "        \n",
    "        my_dense_layer = partial(\n",
    "            tf.layers.dense,\n",
    "            kernel_initializer=tf.contrib.layers.variance_scaling_initializer(),\n",
    "            kernel_regularizer=tf.contrib.layers.l2_regularizer(l2_reg))\n",
    "\n",
    "        hidden = my_dense_layer(X, n_neurons, activation=hidden_activation, name=\"hidden\")\n",
    "        outputs = my_dense_layer(hidden, n_inputs, activation=output_activation, name=\"outputs\")\n",
    "\n",
    "        reconstruction_loss = tf.reduce_mean(tf.square(outputs - X))\n",
    "\n",
    "        reg_losses = tf.get_collection(tf.GraphKeys.REGULARIZATION_LOSSES)\n",
    "        loss = tf.add_n([reconstruction_loss] + reg_losses)\n",
    "\n",
    "        optimizer = tf.train.AdamOptimizer(learning_rate)\n",
    "        training_op = optimizer.minimize(loss)\n",
    "\n",
    "        init = tf.global_variables_initializer()\n",
    "\n",
    "    with tf.Session(graph=graph) as sess:\n",
    "        init.run()\n",
    "        for epoch in range(n_epochs):\n",
    "            n_batches = len(X_train) // batch_size\n",
    "            for iteration in range(n_batches):\n",
    "                print(\"\\r{}%\".format(100 * iteration // n_batches), end=\"\")\n",
    "                sys.stdout.flush()\n",
    "                indices = rnd.permutation(len(X_train))[:batch_size]\n",
    "                X_batch = X_train[indices]\n",
    "                sess.run(training_op, feed_dict={X: X_batch})\n",
    "            loss_train = reconstruction_loss.eval(feed_dict={X: X_batch})\n",
    "            print(\"\\r{}\".format(epoch), \"Train MSE:\", loss_train)\n",
    "        params = dict([(var.name, var.eval()) for var in tf.get_collection(tf.GraphKeys.TRAINABLE_VARIABLES)])\n",
    "        hidden_val = hidden.eval(feed_dict={X: X_train})\n",
    "        return hidden_val, params[\"hidden/kernel:0\"], params[\"hidden/bias:0\"], params[\"outputs/kernel:0\"], params[\"outputs/bias:0\"]"
   ]
  },
  {
   "cell_type": "code",
   "execution_count": 20,
   "metadata": {},
   "outputs": [
    {
     "name": "stdout",
     "output_type": "stream",
     "text": [
      "0 Train MSE: 0.01851794\n",
      "1 Train MSE: 0.01868272\n",
      "2 Train MSE: 0.018467719\n",
      "3 Train MSE: 0.019231746\n",
      "0 Train MSE: 0.004236094\n",
      "1 Train MSE: 0.0048326384\n",
      "2 Train MSE: 0.004668711\n",
      "3 Train MSE: 0.004403878\n"
     ]
    }
   ],
   "source": [
    "hidden_output, W1, b1, W4, b4 = train_autoencoder(mnist.train.images, n_neurons=300, n_epochs=4, batch_size=150,\n",
    "                                                  output_activation=None)\n",
    "_, W2, b2, W3, b3 = train_autoencoder(hidden_output, n_neurons=150, n_epochs=4, batch_size=150)"
   ]
  },
  {
   "cell_type": "code",
   "execution_count": 21,
   "metadata": {},
   "outputs": [],
   "source": [
    "reset_graph()\n",
    "n_inputs = 28 * 28 \n",
    "\n",
    "X = tf.placeholder(tf.float32, shape=[None, n_inputs])\n",
    "hidden1 = tf.nn.elu(tf.matmul(X, W1) + b1)\n",
    "hidden2 = tf.nn.elu(tf.matmul(hidden1, W2) + b2)\n",
    "hidden3 = tf.nn.elu(tf.matmul(hidden2, W3) + b3)\n",
    "outputs = tf.matmul(hidden3, W4) + b4"
   ]
  },
  {
   "cell_type": "code",
   "execution_count": 22,
   "metadata": {},
   "outputs": [
    {
     "data": {
      "image/png": "[encoded data removed]",
      "text/plain": [
       "<Figure size 576x864 with 8 Axes>"
      ]
     },
     "metadata": {
      "needs_background": "light"
     },
     "output_type": "display_data"
    }
   ],
   "source": [
    "show_reconstructed_digits(X, outputs)"
   ]
  },
  {
   "cell_type": "code",
   "execution_count": 23,
   "metadata": {},
   "outputs": [],
   "source": [
    "reset_graph()\n",
    "\n",
    "n_inputs = 28 * 28 \n",
    "n_hidden1 = 300\n",
    "n_hidden2 = 150\n",
    "n_hidden3 = n_hidden1\n",
    "n_outputs = n_inputs\n",
    "\n",
    "learning_rate = 0.01\n",
    "l2_reg = 0.0001\n",
    "\n",
    "activation = tf.nn.elu\n",
    "regularizer = tf.contrib.layers.l2_regularizer(l2_reg)\n",
    "initializer = tf.contrib.layers.variance_scaling_initializer()\n",
    "\n",
    "X = tf.placeholder(tf.float32, shape=[None, n_inputs])\n",
    "\n",
    "weights1_init = initializer([n_inputs, n_hidden1])\n",
    "weights2_init = initializer([n_hidden1, n_hidden2])\n",
    "weights3_init = initializer([n_hidden2, n_hidden3])\n",
    "weights4_init = initializer([n_hidden3, n_outputs])\n",
    "\n",
    "weights1 = tf.Variable(weights1_init, dtype=tf.float32, name=\"weights1\")\n",
    "weights2 = tf.Variable(weights2_init, dtype=tf.float32, name=\"weights2\")\n",
    "weights3 = tf.Variable(weights3_init, dtype=tf.float32, name=\"weights3\")\n",
    "weights4 = tf.Variable(weights4_init, dtype=tf.float32, name=\"weights4\")\n",
    "\n",
    "biases1 = tf.Variable(tf.zeros(n_hidden1), name=\"biases1\")\n",
    "biases2 = tf.Variable(tf.zeros(n_hidden2), name=\"biases2\")\n",
    "biases3 = tf.Variable(tf.zeros(n_hidden3), name=\"buases3\")\n",
    "biases4 = tf.Variable(tf.zeros(n_outputs), name=\"biases4\")\n",
    "\n",
    "hidden1 = activation(tf.matmul(X, weights1) + biases1)\n",
    "hidden2 = activation(tf.matmul(hidden1, weights2) + biases2)\n",
    "hidden3 = activation(tf.matmul(hidden2, weights3) + biases3)\n",
    "outputs = tf.matmul(hidden3, weights4) + biases4\n",
    "\n",
    "reconstruction_loss = tf.reduce_mean(tf.square(outputs - X))"
   ]
  },
  {
   "cell_type": "code",
   "execution_count": 24,
   "metadata": {},
   "outputs": [],
   "source": [
    "optimizer = tf.train.AdamOptimizer(learning_rate)\n",
    "\n",
    "with tf.name_scope(\"phase1\"):\n",
    "    phase1_outputs = tf.matmul(hidden1, weights4) + biases4\n",
    "    phase1_reconstruction_loss = tf.reduce_mean(tf.square(phase1_outputs - X))\n",
    "    phase1_reg_loss = regularizer(weights1) + regularizer(weights4)\n",
    "    phase1_loss = phase1_reconstruction_loss + phase1_reg_loss\n",
    "    phase1_training_op = optimizer.minimize(phase1_loss)\n",
    "    \n",
    "with tf.name_scope(\"phase2\"):\n",
    "    phase2_reconstruction_loss = tf.reduce_mean(tf.square(hidden3 - hidden1))\n",
    "    phase2_reg_loss = regularizer(weights2) + regularizer(weights3)\n",
    "    phase2_loss = phase2_reconstruction_loss + phase2_reg_loss\n",
    "    train_vars = [weights2, biases2, weights3, biases3]\n",
    "    phase2_training_op = optimizer.minimize(phase2_loss, var_list =train_vars)"
   ]
  },
  {
   "cell_type": "code",
   "execution_count": 25,
   "metadata": {},
   "outputs": [],
   "source": [
    "init = tf.global_variables_initializer()\n",
    "saver = tf.train.Saver()"
   ]
  },
  {
   "cell_type": "code",
   "execution_count": 26,
   "metadata": {},
   "outputs": [
    {
     "name": "stdout",
     "output_type": "stream",
     "text": [
      "Training phase #1\n",
      "0 Train MSE: 0.007406866\n",
      "1 Train MSE: 0.0078288205\n",
      "2 %Train MSE: 0.007728097\n",
      "3 Train MSE: 0.0074090064\n",
      "Training phase #2\n",
      "0 Train MSE: 0.34834248\n",
      "1 Train MSE: 0.005979652\n",
      "2 Train MSE: 0.0029750783\n",
      "3 Train MSE: 0.0024357992\n",
      "Test MSE: 0.009800645\n"
     ]
    }
   ],
   "source": [
    "training_ops = [phase1_training_op, phase2_training_op]\n",
    "reconstruction_losses = [phase1_reconstruction_loss, phase2_reconstruction_loss]\n",
    "n_epochs = [4, 4]\n",
    "batch_sizes = [150, 150]\n",
    "\n",
    "with tf.Session() as sess:\n",
    "    init.run()\n",
    "    for phase in range(2):\n",
    "        print(\"Training phase #{}\".format(phase + 1))\n",
    "        for epoch in range(n_epochs[phase]):\n",
    "            n_batches = mnist.train.num_examples // batch_sizes[phase]\n",
    "            for iteration in range(n_batches):\n",
    "                print(\"\\r{}%\".format(100 * iteration // n_batches), end=\"\")\n",
    "                sys.stdout.flush()\n",
    "                X_batch, y_batch = mnist.train.next_batch(batch_sizes[phase])\n",
    "                sess.run(training_ops[phase], feed_dict={X: X_batch})\n",
    "            loss_train = reconstruction_losses[phase].eval(feed_dict={X: X_batch})\n",
    "            print(\"\\r{}\".format(epoch), \"Train MSE:\", loss_train)\n",
    "            saver.save(sess, \"./my_model_one_at_a_time.ckpt\")\n",
    "    loss_test = reconstruction_loss.eval(feed_dict={X: mnist.test.images})\n",
    "    print(\"Test MSE:\", loss_test)"
   ]
  },
  {
   "cell_type": "code",
   "execution_count": 27,
   "metadata": {},
   "outputs": [
    {
     "name": "stdout",
     "output_type": "stream",
     "text": [
      "Training phase #1\n",
      "0 Train MSE: 0.0075382586\n",
      "1 Train MSE: 0.007754701\n",
      "2 Train MSE: 0.007343679\n",
      "3 Train MSE: 0.007837775\n",
      "Training phase #2\n",
      "0 Train MSE: 0.18607096\n",
      "1 Train MSE: 0.0050415695\n",
      "2 Train MSE: 0.0024354032\n",
      "3 Train MSE: 0.0020589055\n",
      "Test MSE: 0.009797439\n"
     ]
    }
   ],
   "source": [
    "training_ops = [phase1_training_op, phase2_training_op]\n",
    "reconstruction_losses = [phase1_reconstruction_loss, phase2_reconstruction_loss]\n",
    "n_epochs = [4, 4]\n",
    "batch_sizes = [150, 150]\n",
    "\n",
    "with tf.Session() as sess:\n",
    "    init.run()\n",
    "    for phase in range(2):\n",
    "        print(\"Training phase #{}\".format(phase + 1))\n",
    "        if phase == 1:\n",
    "            hidden1_cache = hidden1.eval(feed_dict={X: mnist.train.images})\n",
    "        for epoch in range(n_epochs[phase]):\n",
    "            n_batches = mnist.train.num_examples // batch_sizes[phase]\n",
    "            for iteration in range(n_batches):\n",
    "                print(\"\\r{}%\".format(100 * iteration // n_batches), end=\"\")\n",
    "                sys.stdout.flush()\n",
    "                if phase == 1:\n",
    "                    indices = rnd.permutation(mnist.train.num_examples)\n",
    "                    hidden1_batch = hidden1_cache[indices[:batch_sizes[phase]]]\n",
    "                    feed_dict = {hidden1: hidden1_batch}\n",
    "                    sess.run(training_ops[phase], feed_dict=feed_dict)\n",
    "                else:\n",
    "                    X_batch, y_batch = mnist.train.next_batch(batch_sizes[phase])\n",
    "                    feed_dict = {X: X_batch}\n",
    "                    sess.run(training_ops[phase], feed_dict=feed_dict)\n",
    "            loss_train = reconstruction_losses[phase].eval(feed_dict=feed_dict)\n",
    "            print(\"\\r{}\".format(epoch), \"Train MSE:\", loss_train)\n",
    "            saver.save(sess, \"./my_model_cache_frozen.ckpt\")\n",
    "    loss_test = reconstruction_loss.eval(feed_dict={X: mnist.test.images})\n",
    "    print(\"Test MSE:\", loss_test)"
   ]
  },
  {
   "cell_type": "code",
   "execution_count": 28,
   "metadata": {},
   "outputs": [
    {
     "name": "stdout",
     "output_type": "stream",
     "text": [
      "INFO:tensorflow:Restoring parameters from ./my_model_one_at_a_time.ckpt\n"
     ]
    },
    {
     "data": {
      "image/png": "[encoded data removed]",
      "text/plain": [
       "<Figure size 432x288 with 8 Axes>"
      ]
     },
     "metadata": {
      "needs_background": "light"
     },
     "output_type": "display_data"
    }
   ],
   "source": [
    "n_test_digits = 4\n",
    "X_test = mnist.test.images[:n_test_digits]\n",
    "\n",
    "with tf.Session() as sess:\n",
    "    saver.restore(sess, \"./my_model_one_at_a_time.ckpt\")\n",
    "    outputs_val = outputs.eval(feed_dict={X: X_test})\n",
    "    \n",
    "def plot_image(image, shape=[28, 28]):\n",
    "    plt.imshow(image.reshape(shape),cmap=\"Greys\",interpolation=\"nearest\")\n",
    "    plt.axis(\"off\")\n",
    "    \n",
    "for digit_index in range(n_test_digits):\n",
    "    plt.subplot(n_test_digits, 2, digit_index * 2 + 1)\n",
    "    plot_image(X_test[digit_index])\n",
    "    plt.subplot(n_test_digits, 2, digit_index * 2 + 2)\n",
    "    plot_image(outputs_val[digit_index])"
   ]
  },
  {
   "cell_type": "code",
   "execution_count": 29,
   "metadata": {},
   "outputs": [
    {
     "name": "stdout",
     "output_type": "stream",
     "text": [
      "INFO:tensorflow:Restoring parameters from ./my_model_one_at_a_time.ckpt\n"
     ]
    },
    {
     "data": {
      "image/png": "[encoded data removed]",
      "text/plain": [
       "<Figure size 432x288 with 5 Axes>"
      ]
     },
     "metadata": {
      "needs_background": "light"
     },
     "output_type": "display_data"
    },
    {
     "data": {
      "text/plain": [
       "<Figure size 2304x2304 with 0 Axes>"
      ]
     },
     "metadata": {},
     "output_type": "display_data"
    }
   ],
   "source": [
    "with tf.Session() as sess:\n",
    "    saver.restore(sess,\"./my_model_one_at_a_time.ckpt\")\n",
    "    weights1_val = weights1.eval()\n",
    "    \n",
    "for i in range(5):\n",
    "    plt.subplot(1,5,i+1)\n",
    "    plot_image(weights1_val.T[i])\n",
    "    \n",
    "plt.figure(figsize=(32,32))\n",
    "plt.show()"
   ]
  },
  {
   "cell_type": "code",
   "execution_count": 30,
   "metadata": {},
   "outputs": [],
   "source": [
    "reset_graph()\n",
    "\n",
    "n_inputs = 28 * 28\n",
    "n_hidden1 = 300\n",
    "n_hidden2 = 150\n",
    "n_outputs = 10\n",
    "\n",
    "learning_rate = 0.01\n",
    "l2_reg = 0.0005\n",
    "\n",
    "activation = tf.nn.elu\n",
    "regularizer = tf.contrib.layers.l2_regularizer(l2_reg)\n",
    "initializer = tf.contrib.layers.variance_scaling_initializer()\n",
    "\n",
    "X = tf.placeholder(tf.float32, shape=[None, n_inputs])\n",
    "y = tf.placeholder(tf.int32, shape=[None])\n",
    "\n",
    "weights1_init = initializer([n_inputs, n_hidden1])\n",
    "weights2_init = initializer([n_hidden1, n_hidden2])\n",
    "weights3_init = initializer([n_hidden2, n_outputs])\n",
    "\n",
    "weights1 = tf.Variable(weights1_init, dtype=tf.float32, name=\"weights1\")\n",
    "weights2 = tf.Variable(weights2_init, dtype=tf.float32, name=\"weights2\")\n",
    "weights3 = tf.Variable(weights3_init, dtype=tf.float32, name=\"weights3\")\n",
    "\n",
    "biases1 = tf.Variable(tf.zeros(n_hidden1), name=\"biases1\")\n",
    "biases2 = tf.Variable(tf.zeros(n_hidden2), name=\"biases2\")\n",
    "biases3 = tf.Variable(tf.zeros(n_outputs), name=\"biases3\")\n",
    "\n",
    "hidden1 = activation(tf.matmul(X, weights1) + biases1)\n",
    "hidden2 = activation(tf.matmul(hidden1, weights2) + biases2)\n",
    "logits = tf.matmul(hidden2, weights3) + biases3\n",
    "\n",
    "cross_entropy = tf.nn.sparse_softmax_cross_entropy_with_logits(labels=y, logits=logits)\n",
    "reg_loss = regularizer(weights1) + regularizer(weights2) + regularizer(weights3)\n",
    "loss = cross_entropy + reg_loss\n",
    "optimizer = tf.train.AdamOptimizer(learning_rate)\n",
    "training_op = optimizer.minimize(loss)\n",
    "\n",
    "correct = tf.nn.in_top_k(logits, y, 1)\n",
    "accuracy = tf.reduce_mean(tf.cast(correct, tf.float32))\n",
    "\n",
    "init = tf.global_variables_initializer()\n",
    "pretrain_saver = tf.train.Saver([weights1, weights2, biases1, biases2])\n",
    "saver = tf.train.Saver()"
   ]
  },
  {
   "cell_type": "code",
   "execution_count": 31,
   "metadata": {},
   "outputs": [
    {
     "name": "stdout",
     "output_type": "stream",
     "text": [
      "0 Train accuracy: 0.9737091 Test accuracy 0.9672\n",
      "1 Train accuracy: 0.9885455 Test accuracy 0.9762\n",
      "2 Train accuracy: 0.97443634 Test accuracy 0.9665\n",
      "3 Train accuracy: 0.98663634 Test accuracy 0.9743\n"
     ]
    }
   ],
   "source": [
    "n_epochs = 4 \n",
    "batch_size = 150 \n",
    "n_labeled_instances = 20000\n",
    "\n",
    "with tf.Session() as sess:\n",
    "    init.run()\n",
    "    for epoch in range(n_epochs):\n",
    "        n_batches = n_labeled_instances // batch_size\n",
    "        for iteration in range(n_batches):\n",
    "            print(\"\\r{}%\".format(100 * iteration // n_batches), end=\"\")\n",
    "            sys.stdout.flush()\n",
    "            indicies = rnd.permutation(n_labeled_instances)[:batch_size]\n",
    "            X_batch, y_batch = mnist.train.images[indices], mnist.train.labels[indices]\n",
    "            sess.run(training_op, feed_dict={X: X_batch, y: y_batch})\n",
    "        accuracy_val = accuracy.eval(feed_dict={X: X_batch, y: y_batch})\n",
    "        print(\"\\r{}\".format(epoch),\"Train accuracy:\", accuracy_val, end=\" \")\n",
    "        saver.save(sess, \"./my_model_supervised.ckpt\")\n",
    "        accuracy_val = accuracy.eval(feed_dict={X: mnist.test.images, y: mnist.test.labels})\n",
    "        print(\"Test accuracy\", accuracy_val)"
   ]
  },
  {
   "cell_type": "code",
   "execution_count": 32,
   "metadata": {},
   "outputs": [
    {
     "name": "stdout",
     "output_type": "stream",
     "text": [
      "INFO:tensorflow:Restoring parameters from ./my_model_cache_frozen.ckpt\n",
      "0 Train accuracy: 0.97333336\tTest accuracy: 0.926\n",
      "1 Train accuracy: 0.98\tTest accuracy: 0.9384\n",
      "2 Train accuracy: 0.98\tTest accuracy: 0.943\n",
      "3 Train accuracy: 0.96666664\tTest accuracy: 0.9371\n"
     ]
    }
   ],
   "source": [
    "n_epochs = 4\n",
    "batch_size = 150\n",
    "n_labeled_instances = 20000\n",
    "\n",
    "with tf.Session() as sess:\n",
    "    init.run()\n",
    "    pretrain_saver.restore(sess, \"./my_model_cache_frozen.ckpt\")\n",
    "    for epoch in range(n_epochs):\n",
    "        n_batches = n_labeled_instances // batch_size\n",
    "        for iteration in range(n_batches):\n",
    "            print(\"\\r{}%\".format(100 * iteration // n_batches), end=\"\")\n",
    "            sys.stdout.flush()\n",
    "            indices = rnd.permutation(n_labeled_instances)[:batch_size]\n",
    "            X_batch, y_batch = mnist.train.images[indices], mnist.train.labels[indices]\n",
    "            sess.run(training_op, feed_dict={X: X_batch, y: y_batch})\n",
    "        accuracy_val = accuracy.eval(feed_dict={X: X_batch, y: y_batch})\n",
    "        print(\"\\r{}\".format(epoch), \"Train accuracy:\", accuracy_val, end=\"\\t\")\n",
    "        saver.save(sess, \"./my_model_supervised_pretrained.ckpt\")\n",
    "        accuracy_val = accuracy.eval(feed_dict={X: mnist.test.images, y: mnist.test.labels})\n",
    "        print(\"Test accuracy:\", accuracy_val)"
   ]
  },
  {
   "cell_type": "code",
   "execution_count": 33,
   "metadata": {},
   "outputs": [],
   "source": [
    "reset_graph()\n",
    "\n",
    "n_inputs = 28 * 28 \n",
    "n_hidden1 = 300\n",
    "n_hidden2 = 150\n",
    "n_hidden3 = n_hidden1 \n",
    "n_outputs = n_inputs\n",
    "\n",
    "learning_rate = 0.01"
   ]
  },
  {
   "cell_type": "code",
   "execution_count": 34,
   "metadata": {},
   "outputs": [],
   "source": [
    "noise_level = 1.0\n",
    "X = tf.placeholder(tf.float32, shape=[None, n_inputs])\n",
    "X_noisy = X + noise_level * tf.random_normal(tf.shape(X))\n",
    "\n",
    "hidden1 = tf.layers.dense(X_noisy, n_hidden1, activation=tf.nn.relu, name=\"hidden1\")\n",
    "hidden2 = tf.layers.dense(hidden1, n_hidden2, activation=tf.nn.relu, name=\"hidden2\")\n",
    "hidden3 = tf.layers.dense(hidden2, n_hidden3, activation=tf.nn.relu, name=\"hidden3\")\n",
    "outputs = tf.layers.dense(hidden3, n_outputs, name=\"outputs\")\n",
    "\n",
    "reconstruction_loss = tf.reduce_mean(tf.square(outputs - X))"
   ]
  },
  {
   "cell_type": "code",
   "execution_count": 35,
   "metadata": {},
   "outputs": [],
   "source": [
    "optimizer = tf.train.AdamOptimizer(learning_rate)\n",
    "training_op = optimizer.minimize(reconstruction_loss)\n",
    "\n",
    "init = tf.global_variables_initializer()\n",
    "saver = tf.train.Saver()"
   ]
  },
  {
   "cell_type": "code",
   "execution_count": 36,
   "metadata": {},
   "outputs": [
    {
     "name": "stdout",
     "output_type": "stream",
     "text": [
      "0 Train MSE:  0.044620685\n",
      "1 Train MSE:  0.0429921\n",
      "2 Train MSE:  0.04198576\n",
      "3 Train MSE:  0.04083458\n",
      "4 Train MSE:  0.040475477\n",
      "5 Train MSE:  0.038499173\n",
      "6 Train MSE:  0.03952944\n",
      "7 Train MSE:  0.04249168\n",
      "8 Train MSE:  0.04004642\n",
      "9 Train MSE:  0.040751375\n"
     ]
    }
   ],
   "source": [
    "n_epochs = 10 \n",
    "batch_size = 150 \n",
    "\n",
    "with tf.Session() as sess:\n",
    "    init.run()\n",
    "    for epoch in range(n_epochs):\n",
    "        n_batches = mnist.train.num_examples // batch_size\n",
    "        for iteration in range(n_batches):\n",
    "            print(\"\\r{}%\".format(100 * iteration // n_batches), end=\"\")\n",
    "            sys.stdout.flush()\n",
    "            X_batch, y_batch = mnist.train.next_batch(batch_size)\n",
    "            sess.run(training_op, feed_dict={X: X_batch})\n",
    "        loss_train = reconstruction_loss.eval(feed_dict={X:X_batch})\n",
    "        print(\"\\r{}\".format(epoch),\"Train MSE: \",loss_train)\n",
    "        saver.save(sess,\"./my_model_stacked_denoising_gaussian.ckpt\")"
   ]
  },
  {
   "cell_type": "code",
   "execution_count": 37,
   "metadata": {},
   "outputs": [],
   "source": [
    "#Using dropout\n",
    "reset_graph()\n",
    "\n",
    "n_inputs = 28 * 28\n",
    "n_hidden1 = 300\n",
    "n_hidden2 = 150 \n",
    "n_hidden3 =  n_hidden1\n",
    "\n",
    "learning_rate = 0.01"
   ]
  },
  {
   "cell_type": "code",
   "execution_count": 38,
   "metadata": {},
   "outputs": [],
   "source": [
    "dropout_rate = 0.3\n",
    "training = tf.placeholder_with_default(False, shape=(), name='training')\n",
    "\n",
    "X = tf.placeholder(tf.float32, shape=[None, n_inputs])\n",
    "X_drop = tf.layers.dropout(X, dropout_rate, training=training)\n",
    "\n",
    "hidden1 = tf.layers.dense(X_drop, n_hidden1, activation=tf.nn.relu, name=\"hidden1\")\n",
    "hidden2 = tf.layers.dense(hidden1, n_hidden2, activation=tf.nn.relu, name=\"hidden2\")\n",
    "hidden3 = tf.layers.dense(hidden2, n_hidden3, activation=tf.nn.relu, name=\"hidden3\")\n",
    "outputs = tf.layers.dense(hidden3, n_outputs, name=\"outputs\")\n",
    "\n",
    "reconstruction_loss = tf.reduce_mean(tf.square(outputs - X))"
   ]
  },
  {
   "cell_type": "code",
   "execution_count": 39,
   "metadata": {},
   "outputs": [],
   "source": [
    "optimizer = tf.train.AdamOptimizer(learning_rate)\n",
    "training_op = optimizer.minimize(reconstruction_loss)\n",
    "\n",
    "init = tf.global_variables_initializer()\n",
    "saver = tf.train.Saver()"
   ]
  },
  {
   "cell_type": "code",
   "execution_count": 40,
   "metadata": {},
   "outputs": [
    {
     "name": "stdout",
     "output_type": "stream",
     "text": [
      "0 Train MSE: 0.029599626\n",
      "1 Train MSE: 0.029762033\n",
      "2 Train MSE: 0.026300838\n",
      "3 Train MSE: 0.026913071\n",
      "4 Train MSE: 0.026610795\n",
      "5 Train MSE: 0.02682735\n",
      "6 Train MSE: 0.026029967\n",
      "79% Train MSE: 0.027156996\n",
      "8 Train MSE: 0.026452446\n",
      "9 Train MSE: 0.026137322\n"
     ]
    }
   ],
   "source": [
    "n_epochs = 10\n",
    "batch_size = 150\n",
    "\n",
    "with tf.Session() as sess:\n",
    "    init.run()\n",
    "    for epoch in range(n_epochs):\n",
    "        n_batches = mnist.train.num_examples // batch_size\n",
    "        for iteration in range(n_batches):\n",
    "            print(\"\\r{}%\".format(100 * iteration // n_batches), end=\"\")\n",
    "            sys.stdout.flush()\n",
    "            X_batch, y_batch = mnist.train.next_batch(batch_size)\n",
    "            sess.run(training_op, feed_dict={X: X_batch, training: True})\n",
    "        loss_train = reconstruction_loss.eval(feed_dict={X: X_batch})\n",
    "        print(\"\\r{}\".format(epoch), \"Train MSE:\", loss_train)\n",
    "        saver.save(sess, \"./my_model_stacked_denoising_dropout.ckpt\")"
   ]
  },
  {
   "cell_type": "code",
   "execution_count": 41,
   "metadata": {},
   "outputs": [
    {
     "name": "stdout",
     "output_type": "stream",
     "text": [
      "INFO:tensorflow:Restoring parameters from ./my_model_stacked_denoising_dropout.ckpt\n"
     ]
    },
    {
     "data": {
      "image/png": "[encoded data removed]",
      "text/plain": [
       "<Figure size 576x864 with 8 Axes>"
      ]
     },
     "metadata": {
      "needs_background": "light"
     },
     "output_type": "display_data"
    }
   ],
   "source": [
    "show_reconstructed_digits(X, outputs, \"./my_model_stacked_denoising_dropout.ckpt\")"
   ]
  },
  {
   "cell_type": "code",
   "execution_count": 42,
   "metadata": {},
   "outputs": [
    {
     "data": {
      "text/plain": [
       "[0, 1, 0, 0.95]"
      ]
     },
     "execution_count": 42,
     "metadata": {},
     "output_type": "execute_result"
    },
    {
     "data": {
      "image/png": "[encoded data removed]",
      "text/plain": [
       "<Figure size 432x288 with 1 Axes>"
      ]
     },
     "metadata": {
      "needs_background": "light"
     },
     "output_type": "display_data"
    }
   ],
   "source": [
    "p = 0.1 \n",
    "q = np.linspace(0.001, 0.999, 500)\n",
    "kl_div = p * np.log(p/q) + (1-p) * np.log((1-p)/(1-q))\n",
    "mse = (p-q)**2\n",
    "plt.plot([p, p],[0, 0.3], \"k:\")\n",
    "plt.text(0.05,0.32, \"Target\\nsparsity\",fontsize=14)\n",
    "plt.plot(q, kl_div,\"b-\",label=\"KL divergence\")\n",
    "plt.plot(q, mse, \"r--\",label=\"MSE\")\n",
    "plt.legend(loc=\"upper left\")\n",
    "plt.xlabel(\"Actual parsity\")\n",
    "plt.ylabel(\"Cost\",rotation=0)\n",
    "plt.axis([0, 1, 0, 0.95])"
   ]
  },
  {
   "cell_type": "code",
   "execution_count": 43,
   "metadata": {},
   "outputs": [],
   "source": [
    "reset_graph()\n",
    "\n",
    "n_inputs = 28 * 28 \n",
    "n_hidden1 = 1000\n",
    "n_outputs = n_inputs"
   ]
  },
  {
   "cell_type": "code",
   "execution_count": 45,
   "metadata": {},
   "outputs": [],
   "source": [
    "#Kullback-Leibler divergence\n",
    "def kl_divergence(p, q):\n",
    "    return p * tf.log(p/q) + (1-p)*tf.log((1-p)/(1-q))\n",
    "\n",
    "learning_rate = 0.01\n",
    "sparsity_target = 0.1\n",
    "sparsity_weight = 0.2\n",
    "\n",
    "X = tf.placeholder(tf.float32, shape=[None, n_inputs])\n",
    "\n",
    "hidden1 = tf.layers.dense(X, n_hidden1, activation=tf.nn.sigmoid)\n",
    "outputs = tf.layers.dense(hidden1, n_outputs)\n",
    "\n",
    "hidden1_mean = tf.reduce_mean(hidden1,axis=0)\n",
    "sparsity_loss = tf.reduce_sum(kl_divergence(sparsity_target, hidden1_mean))\n",
    "reconstruction_loss = tf.reduce_mean(tf.square(outputs - X))\n",
    "loss = reconstruction_loss + sparsity_weight * sparsity_loss\n",
    "\n",
    "optimizer = tf.train.AdamOptimizer(learning_rate)\n",
    "training_op = optimizer.minimize(loss)  "
   ]
  },
  {
   "cell_type": "code",
   "execution_count": 46,
   "metadata": {},
   "outputs": [],
   "source": [
    "init = tf.global_variables_initializer()\n",
    "saver = tf.train.Saver()"
   ]
  },
  {
   "cell_type": "code",
   "execution_count": 47,
   "metadata": {},
   "outputs": [
    {
     "name": "stdout",
     "output_type": "stream",
     "text": [
      "0 Train MSE: 0.13819475 \tSparsity loss: 0.41844413 \tTotal loss: 0.22188358\n",
      "1 Train MSE: 0.059185907 \tSparsity loss: 0.010747653 \tTotal loss: 0.061335437\n",
      "2 Train MSE: 0.053931113 \tSparsity loss: 0.019957468 \tTotal loss: 0.057922605\n",
      "3 Train MSE: 0.04771372 \tSparsity loss: 0.039470937 \tTotal loss: 0.055607907\n",
      "4 Train MSE: 0.044841796 \tSparsity loss: 0.011593082 \tTotal loss: 0.047160413\n",
      "5 Train MSE: 0.04044193 \tSparsity loss: 0.09246916 \tTotal loss: 0.05893576\n",
      "6 Train MSE: 0.03886659 \tSparsity loss: 0.045811534 \tTotal loss: 0.048028897\n",
      "7 %Train MSE: 0.037868652 \tSparsity loss: 0.0749799 \tTotal loss: 0.052864634\n",
      "88% Train MSE: 0.033122517 \tSparsity loss: 0.020322183 \tTotal loss: 0.037186954\n",
      "9 Train MSE: 0.031449173 \tSparsity loss: 0.095670395 \tTotal loss: 0.05058325\n",
      "10 Train MSE: 0.027398113 \tSparsity loss: 0.065706715 \tTotal loss: 0.04053946\n",
      "11 Train MSE: 0.024734963 \tSparsity loss: 0.08889331 \tTotal loss: 0.042513624\n",
      "12 Train MSE: 0.023367295 \tSparsity loss: 0.057660993 \tTotal loss: 0.034899496\n",
      "13 Train MSE: 0.023007901 \tSparsity loss: 0.061935455 \tTotal loss: 0.035394993\n",
      "14 Train MSE: 0.02123353 \tSparsity loss: 0.025881412 \tTotal loss: 0.026409812\n",
      "15 Train MSE: 0.02206469 \tSparsity loss: 0.48820382 \tTotal loss: 0.11970545\n",
      "16% Train MSE: 0.01910253 \tSparsity loss: 0.032203525 \tTotal loss: 0.025543235\n",
      "17 Train MSE: 0.01898219 \tSparsity loss: 0.12995128 \tTotal loss: 0.04497245\n",
      "18 Train MSE: 0.017487913 \tSparsity loss: 0.0350016 \tTotal loss: 0.024488233\n",
      "19 Train MSE: 0.017776337 \tSparsity loss: 0.1102428 \tTotal loss: 0.039824896\n",
      "20 Train MSE: 0.016910141 \tSparsity loss: 0.030319959 \tTotal loss: 0.022974133\n",
      "21 Train MSE: 0.018679725 \tSparsity loss: 0.36376676 \tTotal loss: 0.09143308\n",
      "22 Train MSE: 0.016285753 \tSparsity loss: 0.055483475 \tTotal loss: 0.027382448\n",
      "23 Train MSE: 0.015950203 \tSparsity loss: 0.0793651 \tTotal loss: 0.031823225\n",
      "24 Train MSE: 0.015672017 \tSparsity loss: 0.14289315 \tTotal loss: 0.044250645\n",
      "25 Train MSE: 0.014612303 \tSparsity loss: 0.13330743 \tTotal loss: 0.041273788\n",
      "26 Train MSE: 0.014524783 \tSparsity loss: 0.1094815 \tTotal loss: 0.036421083\n",
      "27 Train MSE: 0.013598451 \tSparsity loss: 0.07208325 \tTotal loss: 0.028015101\n",
      "28 Train MSE: 0.014069849 \tSparsity loss: 0.1578954 \tTotal loss: 0.04564893\n",
      "29 Train MSE: 0.013441612 \tSparsity loss: 0.14449252 \tTotal loss: 0.04234012\n",
      "30 Train MSE: 0.013608928 \tSparsity loss: 0.1850702 \tTotal loss: 0.05062297\n",
      "31 Train MSE: 0.014197283 \tSparsity loss: 0.067886196 \tTotal loss: 0.027774524\n",
      "32 Train MSE: 0.013759439 \tSparsity loss: 0.057575405 \tTotal loss: 0.025274519\n",
      "33 Train MSE: 0.013667366 \tSparsity loss: 0.11363445 \tTotal loss: 0.036394257\n",
      "34 Train MSE: 0.012646968 \tSparsity loss: 0.13469774 \tTotal loss: 0.039586514\n",
      "35 Train MSE: 0.0128729325 \tSparsity loss: 0.16850609 \tTotal loss: 0.046574153\n",
      "36 Train MSE: 0.012669458 \tSparsity loss: 0.09313075 \tTotal loss: 0.03129561\n",
      "37 Train MSE: 0.012427667 \tSparsity loss: 0.10538666 \tTotal loss: 0.033505\n",
      "38 Train MSE: 0.012336044 \tSparsity loss: 0.19235817 \tTotal loss: 0.050807677\n",
      "39% Train MSE: 0.012337873 \tSparsity loss: 0.1423167 \tTotal loss: 0.040801212\n",
      "40 Train MSE: 0.012627313 \tSparsity loss: 0.23267429 \tTotal loss: 0.05916217\n",
      "41 Train MSE: 0.012383334 \tSparsity loss: 0.10489154 \tTotal loss: 0.033361644\n",
      "42 Train MSE: 0.011781143 \tSparsity loss: 0.10161285 \tTotal loss: 0.032103714\n",
      "43% Train MSE: 0.012043875 \tSparsity loss: 0.13594073 \tTotal loss: 0.039232023\n",
      "44 Train MSE: 0.011620556 \tSparsity loss: 0.1147275 \tTotal loss: 0.034566056\n",
      "45 Train MSE: 0.011668704 \tSparsity loss: 0.15797953 \tTotal loss: 0.043264613\n",
      "46 Train MSE: 0.011764474 \tSparsity loss: 0.13549381 \tTotal loss: 0.038863238\n",
      "47 Train MSE: 0.011550483 \tSparsity loss: 0.15660217 \tTotal loss: 0.042870916\n",
      "48 Train MSE: 0.011671591 \tSparsity loss: 0.44306898 \tTotal loss: 0.10028539\n",
      "49 Train MSE: 0.011562673 \tSparsity loss: 0.1758465 \tTotal loss: 0.04673197\n",
      "50 Train MSE: 0.011362458 \tSparsity loss: 0.18886507 \tTotal loss: 0.04913547\n",
      "51% Train MSE: 0.011539898 \tSparsity loss: 0.26338598 \tTotal loss: 0.06421709\n",
      "52% Train MSE: 0.012073991 \tSparsity loss: 0.36756605 \tTotal loss: 0.0855872\n",
      "53 Train MSE: 0.011244458 \tSparsity loss: 0.12488039 \tTotal loss: 0.036220536\n",
      "54% Train MSE: 0.013885834 \tSparsity loss: 0.43314186 \tTotal loss: 0.1005142\n",
      "55 Train MSE: 0.012749869 \tSparsity loss: 0.07718308 \tTotal loss: 0.028186485\n",
      "56 Train MSE: 0.012228283 \tSparsity loss: 0.30155492 \tTotal loss: 0.07253927\n",
      "57 Train MSE: 0.012688499 \tSparsity loss: 0.24828771 \tTotal loss: 0.06234604\n",
      "58 Train MSE: 0.023532085 \tSparsity loss: 0.2327971 \tTotal loss: 0.0700915\n",
      "59 Train MSE: 0.013521187 \tSparsity loss: 0.19810951 \tTotal loss: 0.053143088\n",
      "60 Train MSE: 0.019254683 \tSparsity loss: 0.19428852 \tTotal loss: 0.05811239\n",
      "61 Train MSE: 0.013043199 \tSparsity loss: 0.22926626 \tTotal loss: 0.058896452\n",
      "62 Train MSE: 0.014344007 \tSparsity loss: 0.479839 \tTotal loss: 0.110311806\n",
      "63 Train MSE: 0.014422084 \tSparsity loss: 0.33382726 \tTotal loss: 0.08118753\n",
      "64 Train MSE: 0.012038619 \tSparsity loss: 0.17779876 \tTotal loss: 0.047598373\n",
      "65 Train MSE: 0.015860924 \tSparsity loss: 0.1852069 \tTotal loss: 0.052902304\n",
      "66% Train MSE: 0.015135594 \tSparsity loss: 0.9836648 \tTotal loss: 0.21186855\n",
      "67 Train MSE: 0.036578253 \tSparsity loss: 0.3121564 \tTotal loss: 0.099009536\n",
      "68 Train MSE: 0.015500346 \tSparsity loss: 0.21936695 \tTotal loss: 0.059373736\n",
      "69 Train MSE: 0.012719125 \tSparsity loss: 0.44064283 \tTotal loss: 0.10084769\n",
      "70 Train MSE: 0.040066637 \tSparsity loss: 0.7466418 \tTotal loss: 0.18939501\n",
      "71 Train MSE: 0.014556106 \tSparsity loss: 0.24099737 \tTotal loss: 0.062755585\n",
      "72 Train MSE: 0.016774712 \tSparsity loss: 0.7971651 \tTotal loss: 0.17620774\n",
      "73 Train MSE: 0.01402113 \tSparsity loss: 0.31702533 \tTotal loss: 0.077426195\n",
      "74 Train MSE: 0.03341898 \tSparsity loss: 0.32374316 \tTotal loss: 0.09816761\n",
      "75 Train MSE: 0.03463322 \tSparsity loss: 0.5071248 \tTotal loss: 0.13605818\n",
      "76 Train MSE: 0.018982489 \tSparsity loss: 0.20077676 \tTotal loss: 0.05913784\n",
      "77 Train MSE: 0.019796051 \tSparsity loss: 0.31275594 \tTotal loss: 0.082347244\n",
      "78 Train MSE: 0.017217873 \tSparsity loss: 0.5356994 \tTotal loss: 0.12435776\n",
      "79 Train MSE: 0.019547371 \tSparsity loss: 0.42337054 \tTotal loss: 0.104221486\n",
      "80 Train MSE: 0.015869822 \tSparsity loss: 0.11557991 \tTotal loss: 0.038985804\n",
      "81 Train MSE: 0.0128142275 \tSparsity loss: 0.87961715 \tTotal loss: 0.18873766\n",
      "82 Train MSE: 0.015809558 \tSparsity loss: 2.1375673 \tTotal loss: 0.44332302\n",
      "83 Train MSE: 0.014773857 \tSparsity loss: 0.6602142 \tTotal loss: 0.1468167\n",
      "84 Train MSE: 0.014599752 \tSparsity loss: 0.27073658 \tTotal loss: 0.068747066\n",
      "85 Train MSE: 0.028276952 \tSparsity loss: 0.936731 \tTotal loss: 0.21562316\n",
      "86 Train MSE: 0.015176142 \tSparsity loss: 0.68489444 \tTotal loss: 0.15215504\n",
      "87 Train MSE: 0.012090628 \tSparsity loss: 1.4163997 \tTotal loss: 0.29537058\n",
      "88 Train MSE: 0.019939028 \tSparsity loss: 0.86064875 \tTotal loss: 0.19206879\n",
      "89 Train MSE: 0.030394908 \tSparsity loss: 0.29466784 \tTotal loss: 0.089328475\n",
      "90 Train MSE: 0.02679985 \tSparsity loss: 0.4620595 \tTotal loss: 0.11921175\n",
      "91 Train MSE: 0.0148090245 \tSparsity loss: 0.100168176 \tTotal loss: 0.03484266\n",
      "92 Train MSE: 0.016125131 \tSparsity loss: 0.38760796 \tTotal loss: 0.09364672\n",
      "93% Train MSE: 0.01583529 \tSparsity loss: 0.16339487 \tTotal loss: 0.04851426\n",
      "94 Train MSE: 0.01223975 \tSparsity loss: 0.117269486 \tTotal loss: 0.035693645\n",
      "95 Train MSE: 0.014084335 \tSparsity loss: 0.10270851 \tTotal loss: 0.034626037\n",
      "96 Train MSE: 0.018751057 \tSparsity loss: 0.23795675 \tTotal loss: 0.066342406\n",
      "97 Train MSE: 0.013839577 \tSparsity loss: 0.108901486 \tTotal loss: 0.035619874\n",
      "98 Train MSE: 0.013948341 \tSparsity loss: 0.08877279 \tTotal loss: 0.0317029\n",
      "99 Train MSE: 0.023569833 \tSparsity loss: 0.33277765 \tTotal loss: 0.09012537\n"
     ]
    }
   ],
   "source": [
    "n_epochs = 100\n",
    "batch_size = 1000\n",
    "\n",
    "with tf.Session() as sess:\n",
    "    init.run()\n",
    "    for epoch in range(n_epochs):\n",
    "        n_batches = mnist.train.num_examples // batch_size\n",
    "        for iteration in range(n_batches):\n",
    "            print(\"\\r{}%\".format(100 * iteration // n_batches), end=\"\")\n",
    "            sys.stdout.flush()\n",
    "            X_batch, y_batch = mnist.train.next_batch(batch_size)\n",
    "            sess.run(training_op, feed_dict={X: X_batch})\n",
    "        reconstruction_loss_val, sparsity_loss_val, loss_val = sess.run([reconstruction_loss, sparsity_loss, loss],feed_dict={X:X_batch})\n",
    "        print(\"\\r{}\".format(epoch), \"Train MSE:\", reconstruction_loss_val,\"\\tSparsity loss:\",sparsity_loss_val,\"\\tTotal loss:\",loss_val)\n",
    "        saver.save(sess, \"./my_model_sparse.ckpt\")"
   ]
  },
  {
   "cell_type": "code",
   "execution_count": 48,
   "metadata": {},
   "outputs": [
    {
     "name": "stdout",
     "output_type": "stream",
     "text": [
      "INFO:tensorflow:Restoring parameters from ./my_model_sparse.ckpt\n"
     ]
    },
    {
     "data": {
      "image/png": "[encoded data removed]",
      "text/plain": [
       "<Figure size 576x864 with 8 Axes>"
      ]
     },
     "metadata": {
      "needs_background": "light"
     },
     "output_type": "display_data"
    }
   ],
   "source": [
    "show_reconstructed_digits(X, outputs, \"./my_model_sparse.ckpt\")"
   ]
  },
  {
   "cell_type": "code",
   "execution_count": 49,
   "metadata": {},
   "outputs": [],
   "source": [
    "hidden1 = tf.layers.dense(X, n_hidden1, activation=tf.nn.sigmoid)"
   ]
  },
  {
   "cell_type": "code",
   "execution_count": 50,
   "metadata": {},
   "outputs": [],
   "source": [
    "logits = tf.layers.dense(hidden1, n_outputs)\n",
    "outputs = tf.nn.sigmoid(logits)\n",
    "\n",
    "xentropy = tf.nn.sigmoid_cross_entropy_with_logits(labels=X, logits=logits)\n",
    "reconstruction_loss = tf.reduce_mean(xentropy)"
   ]
  },
  {
   "cell_type": "code",
   "execution_count": 55,
   "metadata": {},
   "outputs": [],
   "source": [
    "reset_graph()\n",
    "\n",
    "from functools import partial\n",
    "\n",
    "n_inputs = 28 * 28\n",
    "n_hidden1 = 500\n",
    "n_hidden2 = 500\n",
    "n_hidden3 = 20  # codings\n",
    "n_hidden4 = n_hidden2\n",
    "n_hidden5 = n_hidden1\n",
    "n_outputs = n_inputs\n",
    "learning_rate = 0.001\n",
    "\n",
    "initializer = tf.contrib.layers.variance_scaling_initializer()\n",
    "\n",
    "my_dense_layer = partial(\n",
    "    tf.layers.dense,\n",
    "    activation=tf.nn.elu,\n",
    "    kernel_initializer=initializer)\n",
    "\n",
    "X = tf.placeholder(tf.float32, [None, n_inputs])\n",
    "hidden1 = my_dense_layer(X, n_hidden1)\n",
    "hidden2 = my_dense_layer(hidden1, n_hidden2)\n",
    "hidden3_mean = my_dense_layer(hidden2, n_hidden3, activation=None)\n",
    "hidden3_sigma = my_dense_layer(hidden2, n_hidden3, activation=None)\n",
    "noise = tf.random_normal(tf.shape(hidden3_sigma), dtype=tf.float32)\n",
    "hidden3 = hidden3_mean + hidden3_sigma * noise\n",
    "hidden4 = my_dense_layer(hidden3, n_hidden4)\n",
    "hidden5 = my_dense_layer(hidden4, n_hidden5)\n",
    "logits = my_dense_layer(hidden5, n_outputs, activation=None)\n",
    "outputs = tf.sigmoid(logits)\n",
    "\n",
    "xentropy = tf.nn.sigmoid_cross_entropy_with_logits(labels=X, logits=logits)\n",
    "reconstruction_loss = tf.reduce_sum(xentropy)"
   ]
  },
  {
   "cell_type": "code",
   "execution_count": 56,
   "metadata": {},
   "outputs": [],
   "source": [
    "eps = 1e-10 \n",
    "latent_loss = 0.5 * tf.reduce_sum(\n",
    "    tf.square(hidden3_sigma) + tf.square(hidden3_mean)\n",
    "    - 1 - tf.log(eps + tf.square(hidden3_sigma)))"
   ]
  },
  {
   "cell_type": "code",
   "execution_count": 57,
   "metadata": {},
   "outputs": [],
   "source": [
    "loss = reconstruction_loss + latent_loss\n",
    "\n",
    "optimizer = tf.train.AdamOptimizer(learning_rate=learning_rate)\n",
    "training_op = optimizer.minimize(loss)\n",
    "\n",
    "init = tf.global_variables_initializer()\n",
    "saver = tf.train.Saver()"
   ]
  },
  {
   "cell_type": "code",
   "execution_count": 58,
   "metadata": {},
   "outputs": [
    {
     "name": "stdout",
     "output_type": "stream",
     "text": [
      "0 Train total loss: 28690.404 \tReconstruction loss: 23194.72 \tLatent loss: 5495.684\n",
      "19% Train total loss: 37124.023 \tReconstruction loss: 26871.615 \tLatent loss: 10252.408\n",
      "29% Train total loss: 28022.805 \tReconstruction loss: 23583.758 \tLatent loss: 4439.0464\n",
      "3 Train total loss: 22362.04 \tReconstruction loss: 19285.807 \tLatent loss: 3076.2334\n",
      "4 Train total loss: 19434.266 \tReconstruction loss: 16618.004 \tLatent loss: 2816.2622\n",
      "5 Train total loss: 17373.852 \tReconstruction loss: 14455.073 \tLatent loss: 2918.7778\n",
      "6 Train total loss: 17512.842 \tReconstruction loss: 14473.658 \tLatent loss: 3039.1843\n",
      "7 Train total loss: 16969.424 \tReconstruction loss: 13950.468 \tLatent loss: 3018.9553\n",
      "8 Train total loss: 17253.63 \tReconstruction loss: 14154.666 \tLatent loss: 3098.9653\n",
      "9 Train total loss: 16348.877 \tReconstruction loss: 13085.803 \tLatent loss: 3263.0747\n",
      "10 Train total loss: 16789.88 \tReconstruction loss: 13466.119 \tLatent loss: 3323.7625\n",
      "11 Train total loss: 17697.258 \tReconstruction loss: 14499.33 \tLatent loss: 3197.9277\n",
      "12 Train total loss: 19679.602 \tReconstruction loss: 15603.741 \tLatent loss: 4075.8606\n",
      "13 Train total loss: 17340.693 \tReconstruction loss: 13914.271 \tLatent loss: 3426.4216\n",
      "14 Train total loss: 17239.209 \tReconstruction loss: 13758.211 \tLatent loss: 3480.9983\n",
      "15 Train total loss: 16611.768 \tReconstruction loss: 13411.539 \tLatent loss: 3200.2285\n",
      "16 Train total loss: 16339.179 \tReconstruction loss: 13017.8545 \tLatent loss: 3321.3245\n",
      "17 Train total loss: 16440.303 \tReconstruction loss: 13028.317 \tLatent loss: 3411.9858\n",
      "18 Train total loss: 17479.285 \tReconstruction loss: 13777.158 \tLatent loss: 3702.1262\n",
      "19 Train total loss: 16483.3 \tReconstruction loss: 13317.955 \tLatent loss: 3165.3452\n",
      "20 Train total loss: 15940.865 \tReconstruction loss: 12692.1875 \tLatent loss: 3248.678\n",
      "21 Train total loss: 16953.75 \tReconstruction loss: 13341.4375 \tLatent loss: 3612.3127\n",
      "22 Train total loss: 17035.398 \tReconstruction loss: 13583.768 \tLatent loss: 3451.6306\n",
      "23 Train total loss: 27424.326 \tReconstruction loss: 22404.078 \tLatent loss: 5020.2485\n",
      "24 Train total loss: 44250.32 \tReconstruction loss: 27061.773 \tLatent loss: 17188.545\n",
      "25 Train total loss: 30860.543 \tReconstruction loss: 23518.398 \tLatent loss: 7342.144\n",
      "26 Train total loss: 23260.055 \tReconstruction loss: 19770.508 \tLatent loss: 3489.546\n",
      "27 Train total loss: 22979.957 \tReconstruction loss: 19090.969 \tLatent loss: 3888.9888\n",
      "28 Train total loss: 19362.766 \tReconstruction loss: 16430.797 \tLatent loss: 2931.9697\n",
      "29 Train total loss: 21311.943 \tReconstruction loss: 17221.227 \tLatent loss: 4090.7173\n",
      "30 Train total loss: 16749.908 \tReconstruction loss: 13641.723 \tLatent loss: 3108.1848\n",
      "31 Train total loss: 16552.86 \tReconstruction loss: 13286.959 \tLatent loss: 3265.9001\n",
      "32 Train total loss: 16707.926 \tReconstruction loss: 13496.641 \tLatent loss: 3211.286\n",
      "33 Train total loss: 16164.234 \tReconstruction loss: 12923.863 \tLatent loss: 3240.3716\n",
      "34 Train total loss: 15998.624 \tReconstruction loss: 12586.755 \tLatent loss: 3411.869\n",
      "35 Train total loss: 16400.725 \tReconstruction loss: 12936.383 \tLatent loss: 3464.341\n",
      "36 Train total loss: 15892.3545 \tReconstruction loss: 12552.999 \tLatent loss: 3339.3557\n",
      "37 Train total loss: 16485.547 \tReconstruction loss: 13331.897 \tLatent loss: 3153.6497\n",
      "38 Train total loss: 16236.174 \tReconstruction loss: 13007.895 \tLatent loss: 3228.2798\n",
      "39 Train total loss: 16718.273 \tReconstruction loss: 13342.652 \tLatent loss: 3375.6206\n",
      "40 Train total loss: 15588.614 \tReconstruction loss: 12331.682 \tLatent loss: 3256.9326\n",
      "41 Train total loss: 16608.428 \tReconstruction loss: 13233.939 \tLatent loss: 3374.4888\n",
      "42 Train total loss: 16165.944 \tReconstruction loss: 12927.805 \tLatent loss: 3238.14\n",
      "43 Train total loss: 16568.723 \tReconstruction loss: 13227.497 \tLatent loss: 3341.2266\n",
      "44 Train total loss: 16563.248 \tReconstruction loss: 13448.583 \tLatent loss: 3114.6653\n",
      "45 Train total loss: 17012.576 \tReconstruction loss: 13334.875 \tLatent loss: 3677.7004\n",
      "46 Train total loss: 15601.294 \tReconstruction loss: 12212.674 \tLatent loss: 3388.6204\n",
      "47 Train total loss: 19534.475 \tReconstruction loss: 15471.691 \tLatent loss: 4062.7834\n",
      "48 Train total loss: 15519.35 \tReconstruction loss: 12310.465 \tLatent loss: 3208.8853\n",
      "49 Train total loss: 16945.637 \tReconstruction loss: 13301.416 \tLatent loss: 3644.2205\n"
     ]
    }
   ],
   "source": [
    "n_epochs = 50\n",
    "batch_size = 150\n",
    "\n",
    "with tf.Session() as sess:\n",
    "    init.run()\n",
    "    for epoch in range(n_epochs):\n",
    "        n_batches = mnist.train.num_examples // batch_size\n",
    "        for iteration in range(n_batches):\n",
    "            print(\"\\r{}%\".format(100 * iteration // n_batches), end=\"\")\n",
    "            sys.stdout.flush()\n",
    "            X_batch, y_batch = mnist.train.next_batch(batch_size)\n",
    "            sess.run(training_op, feed_dict={X: X_batch})\n",
    "        loss_val, reconstruction_loss_val, latent_loss_val = sess.run([loss, reconstruction_loss, latent_loss], feed_dict={X: X_batch})\n",
    "        print(\"\\r{}\".format(epoch), \"Train total loss:\", loss_val, \"\\tReconstruction loss:\", reconstruction_loss_val, \"\\tLatent loss:\", latent_loss_val)\n",
    "        saver.save(sess, \"./my_model_variational.ckpt\")"
   ]
  },
  {
   "cell_type": "code",
   "execution_count": 61,
   "metadata": {},
   "outputs": [],
   "source": [
    "\n",
    "\n",
    "reset_graph()\n",
    "\n",
    "from functools import partial\n",
    "\n",
    "n_inputs = 28 * 28\n",
    "n_hidden1 = 500\n",
    "n_hidden2 = 500\n",
    "n_hidden3 = 20  # codings\n",
    "n_hidden4 = n_hidden2\n",
    "n_hidden5 = n_hidden1\n",
    "n_outputs = n_inputs\n",
    "learning_rate = 0.001\n",
    "\n",
    "initializer = tf.contrib.layers.variance_scaling_initializer()\n",
    "my_dense_layer = partial(\n",
    "    tf.layers.dense,\n",
    "    activation=tf.nn.elu,\n",
    "    kernel_initializer=initializer)\n",
    "\n",
    "X = tf.placeholder(tf.float32, [None, n_inputs])\n",
    "hidden1 = my_dense_layer(X, n_hidden1)\n",
    "hidden2 = my_dense_layer(hidden1, n_hidden2)\n",
    "hidden3_mean = my_dense_layer(hidden2, n_hidden3, activation=None)\n",
    "hidden3_gamma = my_dense_layer(hidden2, n_hidden3, activation=None)\n",
    "noise = tf.random_normal(tf.shape(hidden3_gamma), dtype=tf.float32)\n",
    "hidden3 = hidden3_mean + tf.exp(0.5 * hidden3_gamma) * noise\n",
    "hidden4 = my_dense_layer(hidden3, n_hidden4)\n",
    "hidden5 = my_dense_layer(hidden4, n_hidden5)\n",
    "logits = my_dense_layer(hidden5, n_outputs, activation=None)\n",
    "outputs = tf.sigmoid(logits)\n",
    "\n",
    "xentropy = tf.nn.sigmoid_cross_entropy_with_logits(labels=X, logits=logits)\n",
    "reconstruction_loss = tf.reduce_sum(xentropy)\n",
    "latent_loss = 0.5 * tf.reduce_sum(\n",
    "    tf.exp(hidden3_gamma) + tf.square(hidden3_mean) - 1 - hidden3_gamma)\n",
    "loss = reconstruction_loss + latent_loss\n",
    "\n",
    "optimizer = tf.train.AdamOptimizer(learning_rate=learning_rate)\n",
    "training_op = optimizer.minimize(loss)\n",
    "\n",
    "init = tf.global_variables_initializer()\n",
    "saver = tf.train.Saver()"
   ]
  }
 ],
 "metadata": {
  "kernelspec": {
   "display_name": "Python 3",
   "language": "python",
   "name": "python3"
  },
  "language_info": {
   "codemirror_mode": {
    "name": "ipython",
    "version": 3
   },
   "file_extension": ".py",
   "mimetype": "text/x-python",
   "name": "python",
   "nbconvert_exporter": "python",
   "pygments_lexer": "ipython3",
   "version": "3.6.8"
  }
 },
 "nbformat": 4,
 "nbformat_minor": 4
}
