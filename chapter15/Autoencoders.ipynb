{
 "cells": [
  {
   "cell_type": "code",
   "execution_count": 1,
   "metadata": {},
   "outputs": [],
   "source": [
    "from __future__ import division, print_function, unicode_literals\n",
    "\n",
    "import numpy as np \n",
    "import os \n",
    "import sys \n",
    "\n",
    "def reset_graph(seed=42):\n",
    "    tf.reset_default_graph()\n",
    "    tf.set_random_seed(seed)\n",
    "    np.random.seed(seed)\n",
    "    \n",
    "%matplotlib inline\n",
    "import matplotlib\n",
    "import matplotlib.pyplot as plt\n",
    "plt.rcParams['axes.labelsize'] = 14\n",
    "plt.rcParams['xtick.labelsize'] = 12 \n",
    "plt.rcParams['ytick.labelsize'] = 12 \n"
   ]
  },
  {
   "cell_type": "code",
   "execution_count": 2,
   "metadata": {},
   "outputs": [],
   "source": [
    "def plot_image(image, shape=[28, 28]):\n",
    "    plt.imshow(image.reshape(shape), cmap=\"Greys\", interpolation=\"nearest\")\n",
    "    plt.axis(\"off\")"
   ]
  },
  {
   "cell_type": "code",
   "execution_count": 3,
   "metadata": {},
   "outputs": [],
   "source": [
    "def plot_multiple_images(images, n_rows, n_cols, pad=2):\n",
    "    images = images - images.min()  \n",
    "    w,h = images.shape[1:]\n",
    "    image = np.zeros(((w+pad)*n_rows+pad, (h+pad)*n_cols+pad))\n",
    "    for y in range(n_rows):\n",
    "        for x in range(n_cols):\n",
    "            image[(y*(h+pad)+pad):(y*(h+pad)+pad+h),(x*(w+pad)+pad):(x*(w+pad)+pad+w)] = images[y*n_cols+x]\n",
    "    plt.imshow(image, cmap=\"Greys\", interpolation=\"nearest\")\n",
    "    plt.axis(\"off\")"
   ]
  },
  {
   "cell_type": "code",
   "execution_count": 4,
   "metadata": {},
   "outputs": [],
   "source": [
    "import numpy.random as rnd\n",
    "\n",
    "rnd.seed(4)\n",
    "m = 200 \n",
    "w1, w2, = 0.1, 0.3\n",
    "noise = 0.1\n",
    "\n",
    "angles = rnd.rand(m) * 3 * np.pi / 2 - 0.5\n",
    "data = np.empty((m, 3))\n",
    "data[:, 0] = np.cos(angles) + np.sin(angles)/2 + noise * rnd.randn(m)/2\n",
    "data[:, 1] = np.sin(angles) + 0.7 + noise * rnd.randn(m) / 2\n",
    "data[:, 2] = data[:, 0] * w1 + data[:, 1] * w2 + noise * rnd.randn(m)"
   ]
  },
  {
   "cell_type": "code",
   "execution_count": 5,
   "metadata": {},
   "outputs": [],
   "source": [
    "from sklearn.preprocessing import StandardScaler\n",
    "scaler = StandardScaler()\n",
    "X_train = scaler.fit_transform(data[:100])\n",
    "X_test = scaler.transform(data[100:])"
   ]
  },
  {
   "cell_type": "code",
   "execution_count": 6,
   "metadata": {},
   "outputs": [],
   "source": [
    "import tensorflow as tf\n",
    "reset_graph()\n",
    "\n",
    "n_inputs = 3 \n",
    "n_hidden = 2 \n",
    "n_outputs = n_inputs\n",
    "\n",
    "learning_rate = 0.01\n",
    "X = tf.placeholder(tf.float32, shape=[None, n_inputs])\n",
    "hidden = tf.layers.dense(X, n_hidden)\n",
    "outputs = tf.layers.dense(hidden, n_outputs)\n",
    "\n",
    "reconstruction_loss = tf.reduce_mean(tf.square(outputs - X))\n",
    "\n",
    "optimizer = tf.train.AdamOptimizer(learning_rate)\n",
    "training_op = optimizer.minimize(reconstruction_loss)\n",
    "\n",
    "init = tf.global_variables_initializer()"
   ]
  },
  {
   "cell_type": "code",
   "execution_count": 7,
   "metadata": {},
   "outputs": [],
   "source": [
    "n_iterations = 1000\n",
    "codings = hidden \n",
    "\n",
    "with tf.Session() as sess:\n",
    "    init.run()\n",
    "    for iteration in range(n_iterations):\n",
    "        training_op.run(feed_dict={X:X_train})\n",
    "    codings_val = codings.eval(feed_dict={X: X_test})"
   ]
  },
  {
   "cell_type": "code",
   "execution_count": 8,
   "metadata": {},
   "outputs": [
    {
     "data": {
      "image/png": "[encoded data removed]",
      "text/plain": [
       "<Figure size 576x432 with 1 Axes>"
      ]
     },
     "metadata": {
      "needs_background": "light"
     },
     "output_type": "display_data"
    }
   ],
   "source": [
    "fig = plt.figure(figsize=(8,6))\n",
    "plt.plot(codings_val[:, 0], codings_val[:, 1],\"b.\")\n",
    "plt.xlabel(\"$z_1$\",fontsize=18)\n",
    "plt.ylabel(\"$z_2$\",fontsize=18, rotation=0)\n",
    "plt.show()"
   ]
  },
  {
   "cell_type": "code",
   "execution_count": 9,
   "metadata": {},
   "outputs": [
    {
     "name": "stdout",
     "output_type": "stream",
     "text": [
      "WARNING:tensorflow:From <ipython-input-9-7187608d1af6>:2: read_data_sets (from tensorflow.contrib.learn.python.learn.datasets.mnist) is deprecated and will be removed in a future version.\n",
      "Instructions for updating:\n",
      "Please use alternatives such as official/mnist/dataset.py from tensorflow/models.\n",
      "WARNING:tensorflow:From C:\\Users\\B_Majda\\Anaconda3\\envs\\tensorflow\\lib\\site-packages\\tensorflow\\contrib\\learn\\python\\learn\\datasets\\mnist.py:260: maybe_download (from tensorflow.contrib.learn.python.learn.datasets.base) is deprecated and will be removed in a future version.\n",
      "Instructions for updating:\n",
      "Please write your own downloading logic.\n",
      "WARNING:tensorflow:From C:\\Users\\B_Majda\\Anaconda3\\envs\\tensorflow\\lib\\site-packages\\tensorflow\\contrib\\learn\\python\\learn\\datasets\\mnist.py:262: extract_images (from tensorflow.contrib.learn.python.learn.datasets.mnist) is deprecated and will be removed in a future version.\n",
      "Instructions for updating:\n",
      "Please use tf.data to implement this functionality.\n",
      "Extracting /tmp/data\\train-images-idx3-ubyte.gz\n",
      "WARNING:tensorflow:From C:\\Users\\B_Majda\\Anaconda3\\envs\\tensorflow\\lib\\site-packages\\tensorflow\\contrib\\learn\\python\\learn\\datasets\\mnist.py:267: extract_labels (from tensorflow.contrib.learn.python.learn.datasets.mnist) is deprecated and will be removed in a future version.\n",
      "Instructions for updating:\n",
      "Please use tf.data to implement this functionality.\n",
      "Extracting /tmp/data\\train-labels-idx1-ubyte.gz\n",
      "Extracting /tmp/data\\t10k-images-idx3-ubyte.gz\n",
      "Extracting /tmp/data\\t10k-labels-idx1-ubyte.gz\n",
      "WARNING:tensorflow:From C:\\Users\\B_Majda\\Anaconda3\\envs\\tensorflow\\lib\\site-packages\\tensorflow\\contrib\\learn\\python\\learn\\datasets\\mnist.py:290: DataSet.__init__ (from tensorflow.contrib.learn.python.learn.datasets.mnist) is deprecated and will be removed in a future version.\n",
      "Instructions for updating:\n",
      "Please use alternatives such as official/mnist/dataset.py from tensorflow/models.\n"
     ]
    }
   ],
   "source": [
    "from tensorflow.examples.tutorials.mnist import input_data\n",
    "mnist = input_data.read_data_sets(\"/tmp/data\")"
   ]
  },
  {
   "cell_type": "code",
   "execution_count": 10,
   "metadata": {},
   "outputs": [],
   "source": [
    "reset_graph()\n",
    "\n",
    "from functools import partial\n",
    "\n",
    "n_inputs = 28 * 28\n",
    "n_hidden1 = 300\n",
    "n_hidden2 = 150 \n",
    "n_hidden3 = n_hidden1\n",
    "n_outputs = n_inputs\n",
    "\n",
    "learning_rate = 0.01\n",
    "l2_reg = 0.0001\n",
    "\n",
    "X = tf.placeholder(tf.float32, shape=[None, n_inputs])\n",
    "\n",
    "he_init = tf.contrib.layers.variance_scaling_initializer()\n",
    "l2_regularizer = tf.contrib.layers.l2_regularizer(l2_reg)\n",
    "\n",
    "my_dense_layer = partial(tf.layers.dense, activation=tf.nn.elu,\n",
    "                        kernel_initializer = he_init, kernel_regularizer = l2_regularizer)\n",
    "\n",
    "hidden1 = my_dense_layer(X, n_hidden1)\n",
    "hidden2 = my_dense_layer(hidden1, n_hidden2)\n",
    "hidden3 = my_dense_layer(hidden2, n_hidden3)\n",
    "outputs = my_dense_layer(hidden3, n_outputs, activation=None)\n",
    "\n",
    "reconstruction_loss = tf.reduce_mean(tf.square(outputs - X))\n",
    "\n",
    "reg_losses = tf.get_collection(tf.GraphKeys.REGULARIZATION_LOSSES)\n",
    "loss = tf.add_n([reconstruction_loss] + reg_losses)\n",
    "\n",
    "optimizer = tf.train.AdamOptimizer(learning_rate)\n",
    "training_op = optimizer.minimize(loss)\n",
    "\n",
    "init = tf.global_variables_initializer()\n",
    "saver = tf.train.Saver()"
   ]
  },
  {
   "cell_type": "code",
   "execution_count": 11,
   "metadata": {},
   "outputs": [
    {
     "name": "stdout",
     "output_type": "stream",
     "text": [
      "0 Train MSE: 0.021493401\n",
      "1 Train MSE: 0.011426802\n",
      "2 Train MSE: 0.010240865\n",
      "3 Train MSE: 0.009905783\n",
      "4 Train MSE: 0.010374968\n"
     ]
    }
   ],
   "source": [
    "n_epochs = 5\n",
    "batch_size = 150\n",
    "\n",
    "with tf.Session() as sess:\n",
    "    init.run()\n",
    "    for epoch in range(n_epochs):\n",
    "        n_batches = mnist.train.num_examples // batch_size\n",
    "        for iteration in range(n_batches):\n",
    "            print(\"\\r{}%\".format(100 * iteration // n_batches), end=\"\") \n",
    "            sys.stdout.flush()                                         \n",
    "            X_batch, y_batch = mnist.train.next_batch(batch_size)\n",
    "            sess.run(training_op, feed_dict={X: X_batch})\n",
    "        loss_train = reconstruction_loss.eval(feed_dict={X: X_batch})   \n",
    "        print(\"\\r{}\".format(epoch), \"Train MSE:\", loss_train)           \n",
    "        saver.save(sess, \"./my_model_all_layers.ckpt\")                  "
   ]
  },
  {
   "cell_type": "code",
   "execution_count": 12,
   "metadata": {},
   "outputs": [],
   "source": [
    "def show_reconstructed_digits(X, outputs, model_path = None, n_test_digits = 4):\n",
    "    with tf.Session() as sess:\n",
    "        if model_path:\n",
    "            saver.restore(sess, model_path)\n",
    "        X_test = mnist.test.images[:n_test_digits]\n",
    "        outputs_val = outputs.eval(feed_dict={X: X_test})\n",
    "\n",
    "    fig = plt.figure(figsize=(8, 3 * n_test_digits))\n",
    "    for digit_index in range(n_test_digits):\n",
    "        plt.subplot(n_test_digits, 2, digit_index * 2 + 1)\n",
    "        plot_image(X_test[digit_index])\n",
    "        plt.subplot(n_test_digits, 2, digit_index * 2 + 2)\n",
    "        plot_image(outputs_val[digit_index])"
   ]
  },
  {
   "cell_type": "code",
   "execution_count": 13,
   "metadata": {},
   "outputs": [
    {
     "name": "stdout",
     "output_type": "stream",
     "text": [
      "INFO:tensorflow:Restoring parameters from ./my_model_all_layers.ckpt\n"
     ]
    },
    {
     "data": {
      "image/png": "[encoded data removed]",
      "text/plain": [
       "<Figure size 576x864 with 8 Axes>"
      ]
     },
     "metadata": {
      "needs_background": "light"
     },
     "output_type": "display_data"
    }
   ],
   "source": [
    "show_reconstructed_digits(X, outputs, \"./my_model_all_layers.ckpt\")"
   ]
  },
  {
   "cell_type": "code",
   "execution_count": 14,
   "metadata": {},
   "outputs": [],
   "source": [
    "reset_graph()\n",
    "\n",
    "n_inputs = 28 * 28\n",
    "n_hidden1 = 300\n",
    "n_hidden2 = 150 \n",
    "n_hidden3 = n_hidden1\n",
    "n_outputs = n_inputs\n",
    "\n",
    "learning_rate = 0.01 \n",
    "l2_reg = 0.0005"
   ]
  },
  {
   "cell_type": "code",
   "execution_count": 15,
   "metadata": {},
   "outputs": [],
   "source": [
    "activation = tf.nn.elu\n",
    "regularizer = tf.contrib.layers.l2_regularizer(l2_reg)\n",
    "initializer = tf.contrib.layers.variance_scaling_initializer()\n",
    "\n",
    "X = tf.placeholder(tf.float32, shape=[None, n_inputs])\n",
    "weights1_init = initializer([n_inputs, n_hidden1])\n",
    "weights2_init = initializer([n_hidden1, n_hidden2])\n",
    "\n",
    "weights1 = tf.Variable(weights1_init, dtype=tf.float32, name=\"weights1\")\n",
    "weights2 = tf.Variable(weights2_init, dtype=tf.float32, name=\"weights2\")\n",
    "weights3 = tf.transpose(weights2, name=\"weights3\")\n",
    "weights4 = tf.transpose(weights1, name=\"weights4\")\n",
    "\n",
    "biases1 = tf.Variable(tf.zeros(n_hidden1), name=\"biases1\")\n",
    "biases2 = tf.Variable(tf.zeros(n_hidden2), name=\"biases2\")\n",
    "biases3 = tf.Variable(tf.zeros(n_hidden3), name=\"biases3\")\n",
    "biases4 = tf.Variable(tf.zeros(n_outputs), name=\"biases4\")\n",
    "\n",
    "hidden1 = activation(tf.matmul(X, weights1) + biases1)\n",
    "hidden2 = activation(tf.matmul(hidden1, weights2) + biases2)\n",
    "hidden3 = activation(tf.matmul(hidden2, weights3) + biases3)\n",
    "outputs = tf.matmul(hidden3, weights4) + biases4\n",
    "\n",
    "reconstruction_loss = tf.reduce_mean(tf.square(outputs - X))\n",
    "reg_loss = regularizer(weights1) + regularizer(weights2)\n",
    "loss = reconstruction_loss + reg_loss\n",
    "\n",
    "optimizer = tf.train.AdamOptimizer(learning_rate)\n",
    "training_op = optimizer.minimize(loss)\n",
    "\n",
    "init = tf.global_variables_initializer()"
   ]
  },
  {
   "cell_type": "code",
   "execution_count": 16,
   "metadata": {},
   "outputs": [],
   "source": [
    "saver = tf.train.Saver()"
   ]
  },
  {
   "cell_type": "code",
   "execution_count": 17,
   "metadata": {},
   "outputs": [
    {
     "name": "stdout",
     "output_type": "stream",
     "text": [
      "0 Train MSE: 0.015066945\n",
      "1 Train MSE: 0.016488744\n",
      "2 Train MSE: 0.017375935\n",
      "3 Train MSE: 0.01687833\n",
      "4 Train MSE: 0.015587721\n"
     ]
    }
   ],
   "source": [
    "n_epochs = 5\n",
    "batch_size = 150 \n",
    "\n",
    "with tf.Session() as sess:\n",
    "    init.run()\n",
    "    for epoch in range(n_epochs):\n",
    "        n_batches = mnist.train.num_examples // batch_size\n",
    "        for iteration in range(n_batches):\n",
    "            print(\"\\r{}%\".format(100 * iteration // n_batches), end=\"\")\n",
    "            sys.stdout.flush()\n",
    "            X_batch, y_batch = mnist.train.next_batch(batch_size)\n",
    "            sess.run(training_op, feed_dict={X:X_batch})\n",
    "        loss_train = reconstruction_loss.eval(feed_dict={X:X_batch})\n",
    "        print(\"\\r{}\".format(epoch),\"Train MSE:\", loss_train)\n",
    "        saver.save(sess,\"./my_model_tying_weights.ckpt\")"
   ]
  },
  {
   "cell_type": "code",
   "execution_count": 18,
   "metadata": {},
   "outputs": [
    {
     "name": "stdout",
     "output_type": "stream",
     "text": [
      "INFO:tensorflow:Restoring parameters from ./my_model_tying_weights.ckpt\n"
     ]
    },
    {
     "data": {
      "image/png": "[encoded data removed]",
      "text/plain": [
       "<Figure size 576x864 with 8 Axes>"
      ]
     },
     "metadata": {
      "needs_background": "light"
     },
     "output_type": "display_data"
    }
   ],
   "source": [
    "show_reconstructed_digits(X, outputs, \"./my_model_tying_weights.ckpt\")"
   ]
  },
  {
   "cell_type": "code",
   "execution_count": 19,
   "metadata": {},
   "outputs": [],
   "source": [
    "reset_graph()\n",
    "\n",
    "from functools import partial\n",
    "\n",
    "def train_autoencoder(X_train, n_neurons, n_epochs, batch_size,\n",
    "                      learning_rate = 0.01, l2_reg = 0.0005, seed=42,\n",
    "                      hidden_activation=tf.nn.elu,\n",
    "                      output_activation=tf.nn.elu):\n",
    "    graph = tf.Graph()\n",
    "    with graph.as_default():\n",
    "        tf.set_random_seed(seed)\n",
    "\n",
    "        n_inputs = X_train.shape[1]\n",
    "\n",
    "        X = tf.placeholder(tf.float32, shape=[None, n_inputs])\n",
    "        \n",
    "        my_dense_layer = partial(\n",
    "            tf.layers.dense,\n",
    "            kernel_initializer=tf.contrib.layers.variance_scaling_initializer(),\n",
    "            kernel_regularizer=tf.contrib.layers.l2_regularizer(l2_reg))\n",
    "\n",
    "        hidden = my_dense_layer(X, n_neurons, activation=hidden_activation, name=\"hidden\")\n",
    "        outputs = my_dense_layer(hidden, n_inputs, activation=output_activation, name=\"outputs\")\n",
    "\n",
    "        reconstruction_loss = tf.reduce_mean(tf.square(outputs - X))\n",
    "\n",
    "        reg_losses = tf.get_collection(tf.GraphKeys.REGULARIZATION_LOSSES)\n",
    "        loss = tf.add_n([reconstruction_loss] + reg_losses)\n",
    "\n",
    "        optimizer = tf.train.AdamOptimizer(learning_rate)\n",
    "        training_op = optimizer.minimize(loss)\n",
    "\n",
    "        init = tf.global_variables_initializer()\n",
    "\n",
    "    with tf.Session(graph=graph) as sess:\n",
    "        init.run()\n",
    "        for epoch in range(n_epochs):\n",
    "            n_batches = len(X_train) // batch_size\n",
    "            for iteration in range(n_batches):\n",
    "                print(\"\\r{}%\".format(100 * iteration // n_batches), end=\"\")\n",
    "                sys.stdout.flush()\n",
    "                indices = rnd.permutation(len(X_train))[:batch_size]\n",
    "                X_batch = X_train[indices]\n",
    "                sess.run(training_op, feed_dict={X: X_batch})\n",
    "            loss_train = reconstruction_loss.eval(feed_dict={X: X_batch})\n",
    "            print(\"\\r{}\".format(epoch), \"Train MSE:\", loss_train)\n",
    "        params = dict([(var.name, var.eval()) for var in tf.get_collection(tf.GraphKeys.TRAINABLE_VARIABLES)])\n",
    "        hidden_val = hidden.eval(feed_dict={X: X_train})\n",
    "        return hidden_val, params[\"hidden/kernel:0\"], params[\"hidden/bias:0\"], params[\"outputs/kernel:0\"], params[\"outputs/bias:0\"]"
   ]
  },
  {
   "cell_type": "code",
   "execution_count": 20,
   "metadata": {},
   "outputs": [
    {
     "name": "stdout",
     "output_type": "stream",
     "text": [
      "0 Train MSE: 0.01851794\n",
      "1 Train MSE: 0.01868272\n",
      "2 Train MSE: 0.018467719\n",
      "3 Train MSE: 0.01923175\n",
      "0 Train MSE: 0.0042360914\n",
      "1 Train MSE: 0.004832628\n",
      "2 Train MSE: 0.004668704\n",
      "3 Train MSE: 0.0044038715\n"
     ]
    }
   ],
   "source": [
    "hidden_output, W1, b1, W4, b4 = train_autoencoder(mnist.train.images, n_neurons=300, n_epochs=4, batch_size=150,\n",
    "                                                  output_activation=None)\n",
    "_, W2, b2, W3, b3 = train_autoencoder(hidden_output, n_neurons=150, n_epochs=4, batch_size=150)"
   ]
  },
  {
   "cell_type": "code",
   "execution_count": 21,
   "metadata": {},
   "outputs": [],
   "source": [
    "reset_graph()\n",
    "n_inputs = 28 * 28 \n",
    "\n",
    "X = tf.placeholder(tf.float32, shape=[None, n_inputs])\n",
    "hidden1 = tf.nn.elu(tf.matmul(X, W1) + b1)\n",
    "hidden2 = tf.nn.elu(tf.matmul(hidden1, W2) + b2)\n",
    "hidden3 = tf.nn.elu(tf.matmul(hidden2, W3) + b3)\n",
    "outputs = tf.matmul(hidden3, W4) + b4"
   ]
  },
  {
   "cell_type": "code",
   "execution_count": 22,
   "metadata": {},
   "outputs": [
    {
     "data": {
      "image/png": "[encoded data removed]",
      "text/plain": [
       "<Figure size 576x864 with 8 Axes>"
      ]
     },
     "metadata": {
      "needs_background": "light"
     },
     "output_type": "display_data"
    }
   ],
   "source": [
    "show_reconstructed_digits(X, outputs)"
   ]
  },
  {
   "cell_type": "code",
   "execution_count": 23,
   "metadata": {},
   "outputs": [],
   "source": [
    "reset_graph()\n",
    "\n",
    "n_inputs = 28 * 28 \n",
    "n_hidden1 = 300\n",
    "n_hidden2 = 150\n",
    "n_hidden3 = n_hidden1\n",
    "n_outputs = n_inputs\n",
    "\n",
    "learning_rate = 0.01\n",
    "l2_reg = 0.0001\n",
    "\n",
    "activation = tf.nn.elu\n",
    "regularizer = tf.contrib.layers.l2_regularizer(l2_reg)\n",
    "initializer = tf.contrib.layers.variance_scaling_initializer()\n",
    "\n",
    "X = tf.placeholder(tf.float32, shape=[None, n_inputs])\n",
    "\n",
    "weights1_init = initializer([n_inputs, n_hidden1])\n",
    "weights2_init = initializer([n_hidden1, n_hidden2])\n",
    "weights3_init = initializer([n_hidden2, n_hidden3])\n",
    "weights4_init = initializer([n_hidden3, n_outputs])\n",
    "\n",
    "weights1 = tf.Variable(weights1_init, dtype=tf.float32, name=\"weights1\")\n",
    "weights2 = tf.Variable(weights2_init, dtype=tf.float32, name=\"weights2\")\n",
    "weights3 = tf.Variable(weights3_init, dtype=tf.float32, name=\"weights3\")\n",
    "weights4 = tf.Variable(weights4_init, dtype=tf.float32, name=\"weights4\")\n",
    "\n",
    "biases1 = tf.Variable(tf.zeros(n_hidden1), name=\"biases1\")\n",
    "biases2 = tf.Variable(tf.zeros(n_hidden2), name=\"biases2\")\n",
    "biases3 = tf.Variable(tf.zeros(n_hidden3), name=\"buases3\")\n",
    "biases4 = tf.Variable(tf.zeros(n_outputs), name=\"biases4\")\n",
    "\n",
    "hidden1 = activation(tf.matmul(X, weights1) + biases1)\n",
    "hidden2 = activation(tf.matmul(hidden1, weights2) + biases2)\n",
    "hidden3 = activation(tf.matmul(hidden2, weights3) + biases3)\n",
    "outputs = tf.matmul(hidden3, weights4) + biases4\n",
    "\n",
    "reconstruction_loss = tf.reduce_mean(tf.square(outputs - X))"
   ]
  },
  {
   "cell_type": "code",
   "execution_count": 24,
   "metadata": {},
   "outputs": [],
   "source": [
    "optimizer = tf.train.AdamOptimizer(learning_rate)\n",
    "\n",
    "with tf.name_scope(\"phase1\"):\n",
    "    phase1_outputs = tf.matmul(hidden1, weights4) + biases4\n",
    "    phase1_reconstruction_loss = tf.reduce_mean(tf.square(phase1_outputs - X))\n",
    "    phase1_reg_loss = regularizer(weights1) + regularizer(weights4)\n",
    "    phase1_loss = phase1_reconstruction_loss + phase1_reg_loss\n",
    "    phase1_training_op = optimizer.minimize(phase1_loss)\n",
    "    \n",
    "with tf.name_scope(\"phase2\"):\n",
    "    phase2_reconstruction_loss = tf.reduce_mean(tf.square(hidden3 - hidden1))\n",
    "    phase2_reg_loss = regularizer(weights2) + regularizer(weights3)\n",
    "    phase2_loss = phase2_reconstruction_loss + phase2_reg_loss\n",
    "    train_vars = [weights2, biases2, weights3, biases3]\n",
    "    phase2_training_op = optimizer.minimize(phase2_loss, var_list =train_vars)"
   ]
  },
  {
   "cell_type": "code",
   "execution_count": 25,
   "metadata": {},
   "outputs": [],
   "source": [
    "init = tf.global_variables_initializer()\n",
    "saver = tf.train.Saver()"
   ]
  },
  {
   "cell_type": "code",
   "execution_count": 26,
   "metadata": {},
   "outputs": [
    {
     "name": "stdout",
     "output_type": "stream",
     "text": [
      "Training phase #1\n",
      "0 Train MSE: 0.007406866\n",
      "1 Train MSE: 0.0078288205\n",
      "2 Train MSE: 0.007728097\n",
      "3 Train MSE: 0.0074090064\n",
      "Training phase #2\n",
      "0 Train MSE: 0.34834248\n",
      "1 Train MSE: 0.005979652\n",
      "2 Train MSE: 0.0029750783\n",
      "3 Train MSE: 0.0024357992\n",
      "Test MSE: 0.009800645\n"
     ]
    }
   ],
   "source": [
    "training_ops = [phase1_training_op, phase2_training_op]\n",
    "reconstruction_losses = [phase1_reconstruction_loss, phase2_reconstruction_loss]\n",
    "n_epochs = [4, 4]\n",
    "batch_sizes = [150, 150]\n",
    "\n",
    "with tf.Session() as sess:\n",
    "    init.run()\n",
    "    for phase in range(2):\n",
    "        print(\"Training phase #{}\".format(phase + 1))\n",
    "        for epoch in range(n_epochs[phase]):\n",
    "            n_batches = mnist.train.num_examples // batch_sizes[phase]\n",
    "            for iteration in range(n_batches):\n",
    "                print(\"\\r{}%\".format(100 * iteration // n_batches), end=\"\")\n",
    "                sys.stdout.flush()\n",
    "                X_batch, y_batch = mnist.train.next_batch(batch_sizes[phase])\n",
    "                sess.run(training_ops[phase], feed_dict={X: X_batch})\n",
    "            loss_train = reconstruction_losses[phase].eval(feed_dict={X: X_batch})\n",
    "            print(\"\\r{}\".format(epoch), \"Train MSE:\", loss_train)\n",
    "            saver.save(sess, \"./my_model_one_at_a_time.ckpt\")\n",
    "    loss_test = reconstruction_loss.eval(feed_dict={X: mnist.test.images})\n",
    "    print(\"Test MSE:\", loss_test)"
   ]
  },
  {
   "cell_type": "code",
   "execution_count": 27,
   "metadata": {},
   "outputs": [
    {
     "name": "stdout",
     "output_type": "stream",
     "text": [
      "Training phase #1\n",
      "09% Train MSE: 0.0075382586\n",
      "1 Train MSE: 0.007754701\n",
      "2 Train MSE: 0.007343679\n",
      "3 Train MSE: 0.007837775\n",
      "Training phase #2\n",
      "0 Train MSE: 0.18607096\n",
      "1 Train MSE: 0.0050415695\n",
      "2 Train MSE: 0.0024354032\n",
      "3 Train MSE: 0.0020589055\n",
      "Test MSE: 0.009797439\n"
     ]
    }
   ],
   "source": [
    "training_ops = [phase1_training_op, phase2_training_op]\n",
    "reconstruction_losses = [phase1_reconstruction_loss, phase2_reconstruction_loss]\n",
    "n_epochs = [4, 4]\n",
    "batch_sizes = [150, 150]\n",
    "\n",
    "with tf.Session() as sess:\n",
    "    init.run()\n",
    "    for phase in range(2):\n",
    "        print(\"Training phase #{}\".format(phase + 1))\n",
    "        if phase == 1:\n",
    "            hidden1_cache = hidden1.eval(feed_dict={X: mnist.train.images})\n",
    "        for epoch in range(n_epochs[phase]):\n",
    "            n_batches = mnist.train.num_examples // batch_sizes[phase]\n",
    "            for iteration in range(n_batches):\n",
    "                print(\"\\r{}%\".format(100 * iteration // n_batches), end=\"\")\n",
    "                sys.stdout.flush()\n",
    "                if phase == 1:\n",
    "                    indices = rnd.permutation(mnist.train.num_examples)\n",
    "                    hidden1_batch = hidden1_cache[indices[:batch_sizes[phase]]]\n",
    "                    feed_dict = {hidden1: hidden1_batch}\n",
    "                    sess.run(training_ops[phase], feed_dict=feed_dict)\n",
    "                else:\n",
    "                    X_batch, y_batch = mnist.train.next_batch(batch_sizes[phase])\n",
    "                    feed_dict = {X: X_batch}\n",
    "                    sess.run(training_ops[phase], feed_dict=feed_dict)\n",
    "            loss_train = reconstruction_losses[phase].eval(feed_dict=feed_dict)\n",
    "            print(\"\\r{}\".format(epoch), \"Train MSE:\", loss_train)\n",
    "            saver.save(sess, \"./my_model_cache_frozen.ckpt\")\n",
    "    loss_test = reconstruction_loss.eval(feed_dict={X: mnist.test.images})\n",
    "    print(\"Test MSE:\", loss_test)"
   ]
  },
  {
   "cell_type": "code",
   "execution_count": 28,
   "metadata": {},
   "outputs": [
    {
     "name": "stdout",
     "output_type": "stream",
     "text": [
      "INFO:tensorflow:Restoring parameters from ./my_model_one_at_a_time.ckpt\n"
     ]
    },
    {
     "data": {
      "image/png": "[encoded data removed]",
      "text/plain": [
       "<Figure size 432x288 with 8 Axes>"
      ]
     },
     "metadata": {
      "needs_background": "light"
     },
     "output_type": "display_data"
    }
   ],
   "source": [
    "n_test_digits = 4\n",
    "X_test = mnist.test.images[:n_test_digits]\n",
    "\n",
    "with tf.Session() as sess:\n",
    "    saver.restore(sess, \"./my_model_one_at_a_time.ckpt\")\n",
    "    outputs_val = outputs.eval(feed_dict={X: X_test})\n",
    "    \n",
    "def plot_image(image, shape=[28, 28]):\n",
    "    plt.imshow(image.reshape(shape),cmap=\"Greys\",interpolation=\"nearest\")\n",
    "    plt.axis(\"off\")\n",
    "    \n",
    "for digit_index in range(n_test_digits):\n",
    "    plt.subplot(n_test_digits, 2, digit_index * 2 + 1)\n",
    "    plot_image(X_test[digit_index])\n",
    "    plt.subplot(n_test_digits, 2, digit_index * 2 + 2)\n",
    "    plot_image(outputs_val[digit_index])"
   ]
  },
  {
   "cell_type": "code",
   "execution_count": 29,
   "metadata": {},
   "outputs": [
    {
     "name": "stdout",
     "output_type": "stream",
     "text": [
      "INFO:tensorflow:Restoring parameters from ./my_model_one_at_a_time.ckpt\n"
     ]
    },
    {
     "data": {
      "image/png": "[encoded data removed]",
      "text/plain": [
       "<Figure size 432x288 with 5 Axes>"
      ]
     },
     "metadata": {
      "needs_background": "light"
     },
     "output_type": "display_data"
    },
    {
     "data": {
      "text/plain": [
       "<Figure size 2304x2304 with 0 Axes>"
      ]
     },
     "metadata": {},
     "output_type": "display_data"
    }
   ],
   "source": [
    "with tf.Session() as sess:\n",
    "    saver.restore(sess,\"./my_model_one_at_a_time.ckpt\")\n",
    "    weights1_val = weights1.eval()\n",
    "    \n",
    "for i in range(5):\n",
    "    plt.subplot(1,5,i+1)\n",
    "    plot_image(weights1_val.T[i])\n",
    "    \n",
    "plt.figure(figsize=(32,32))\n",
    "plt.show()"
   ]
  },
  {
   "cell_type": "code",
   "execution_count": 30,
   "metadata": {},
   "outputs": [],
   "source": [
    "reset_graph()\n",
    "\n",
    "n_inputs = 28 * 28\n",
    "n_hidden1 = 300\n",
    "n_hidden2 = 150\n",
    "n_outputs = 10\n",
    "\n",
    "learning_rate = 0.01\n",
    "l2_reg = 0.0005\n",
    "\n",
    "activation = tf.nn.elu\n",
    "regularizer = tf.contrib.layers.l2_regularizer(l2_reg)\n",
    "initializer = tf.contrib.layers.variance_scaling_initializer()\n",
    "\n",
    "X = tf.placeholder(tf.float32, shape=[None, n_inputs])\n",
    "y = tf.placeholder(tf.int32, shape=[None])\n",
    "\n",
    "weights1_init = initializer([n_inputs, n_hidden1])\n",
    "weights2_init = initializer([n_hidden1, n_hidden2])\n",
    "weights3_init = initializer([n_hidden2, n_outputs])\n",
    "\n",
    "weights1 = tf.Variable(weights1_init, dtype=tf.float32, name=\"weights1\")\n",
    "weights2 = tf.Variable(weights2_init, dtype=tf.float32, name=\"weights2\")\n",
    "weights3 = tf.Variable(weights3_init, dtype=tf.float32, name=\"weights3\")\n",
    "\n",
    "biases1 = tf.Variable(tf.zeros(n_hidden1), name=\"biases1\")\n",
    "biases2 = tf.Variable(tf.zeros(n_hidden2), name=\"biases2\")\n",
    "biases3 = tf.Variable(tf.zeros(n_outputs), name=\"biases3\")\n",
    "\n",
    "hidden1 = activation(tf.matmul(X, weights1) + biases1)\n",
    "hidden2 = activation(tf.matmul(hidden1, weights2) + biases2)\n",
    "logits = tf.matmul(hidden2, weights3) + biases3\n",
    "\n",
    "cross_entropy = tf.nn.sparse_softmax_cross_entropy_with_logits(labels=y, logits=logits)\n",
    "reg_loss = regularizer(weights1) + regularizer(weights2) + regularizer(weights3)\n",
    "loss = cross_entropy + reg_loss\n",
    "optimizer = tf.train.AdamOptimizer(learning_rate)\n",
    "training_op = optimizer.minimize(loss)\n",
    "\n",
    "correct = tf.nn.in_top_k(logits, y, 1)\n",
    "accuracy = tf.reduce_mean(tf.cast(correct, tf.float32))\n",
    "\n",
    "init = tf.global_variables_initializer()\n",
    "pretrain_saver = tf.train.Saver([weights1, weights2, biases1, biases2])\n",
    "saver = tf.train.Saver()"
   ]
  },
  {
   "cell_type": "code",
   "execution_count": 31,
   "metadata": {},
   "outputs": [
    {
     "name": "stdout",
     "output_type": "stream",
     "text": [
      "0 Train accuracy: 0.9737091 Test accuracy 0.9672\n",
      "1 Train accuracy: 0.9885455 Test accuracy 0.9762\n",
      "2 Train accuracy: 0.97443634 Test accuracy 0.9665\n",
      "3 Train accuracy: 0.98663634 Test accuracy 0.9743\n"
     ]
    }
   ],
   "source": [
    "n_epochs = 4 \n",
    "batch_size = 150 \n",
    "n_labeled_instances = 20000\n",
    "\n",
    "with tf.Session() as sess:\n",
    "    init.run()\n",
    "    for epoch in range(n_epochs):\n",
    "        n_batches = n_labeled_instances // batch_size\n",
    "        for iteration in range(n_batches):\n",
    "            print(\"\\r{}%\".format(100 * iteration // n_batches), end=\"\")\n",
    "            sys.stdout.flush()\n",
    "            indicies = rnd.permutation(n_labeled_instances)[:batch_size]\n",
    "            X_batch, y_batch = mnist.train.images[indices], mnist.train.labels[indices]\n",
    "            sess.run(training_op, feed_dict={X: X_batch, y: y_batch})\n",
    "        accuracy_val = accuracy.eval(feed_dict={X: X_batch, y: y_batch})\n",
    "        print(\"\\r{}\".format(epoch),\"Train accuracy:\", accuracy_val, end=\" \")\n",
    "        saver.save(sess, \"./my_model_supervised.ckpt\")\n",
    "        accuracy_val = accuracy.eval(feed_dict={X: mnist.test.images, y: mnist.test.labels})\n",
    "        print(\"Test accuracy\", accuracy_val)"
   ]
  },
  {
   "cell_type": "code",
   "execution_count": 32,
   "metadata": {},
   "outputs": [
    {
     "name": "stdout",
     "output_type": "stream",
     "text": [
      "INFO:tensorflow:Restoring parameters from ./my_model_cache_frozen.ckpt\n",
      "0 Train accuracy: 0.97333336\tTest accuracy: 0.926\n",
      "1 Train accuracy: 0.98\tTest accuracy: 0.9384\n",
      "2 Train accuracy: 0.98\tTest accuracy: 0.943\n",
      "3 Train accuracy: 0.96666664\tTest accuracy: 0.9371\n"
     ]
    }
   ],
   "source": [
    "n_epochs = 4\n",
    "batch_size = 150\n",
    "n_labeled_instances = 20000\n",
    "\n",
    "with tf.Session() as sess:\n",
    "    init.run()\n",
    "    pretrain_saver.restore(sess, \"./my_model_cache_frozen.ckpt\")\n",
    "    for epoch in range(n_epochs):\n",
    "        n_batches = n_labeled_instances // batch_size\n",
    "        for iteration in range(n_batches):\n",
    "            print(\"\\r{}%\".format(100 * iteration // n_batches), end=\"\")\n",
    "            sys.stdout.flush()\n",
    "            indices = rnd.permutation(n_labeled_instances)[:batch_size]\n",
    "            X_batch, y_batch = mnist.train.images[indices], mnist.train.labels[indices]\n",
    "            sess.run(training_op, feed_dict={X: X_batch, y: y_batch})\n",
    "        accuracy_val = accuracy.eval(feed_dict={X: X_batch, y: y_batch})\n",
    "        print(\"\\r{}\".format(epoch), \"Train accuracy:\", accuracy_val, end=\"\\t\")\n",
    "        saver.save(sess, \"./my_model_supervised_pretrained.ckpt\")\n",
    "        accuracy_val = accuracy.eval(feed_dict={X: mnist.test.images, y: mnist.test.labels})\n",
    "        print(\"Test accuracy:\", accuracy_val)"
   ]
  },
  {
   "cell_type": "code",
   "execution_count": 33,
   "metadata": {},
   "outputs": [],
   "source": [
    "reset_graph()\n",
    "\n",
    "n_inputs = 28 * 28 \n",
    "n_hidden1 = 300\n",
    "n_hidden2 = 150\n",
    "n_hidden3 = n_hidden1 \n",
    "n_outputs = n_inputs\n",
    "\n",
    "learning_rate = 0.01"
   ]
  },
  {
   "cell_type": "code",
   "execution_count": 34,
   "metadata": {},
   "outputs": [],
   "source": [
    "noise_level = 1.0\n",
    "X = tf.placeholder(tf.float32, shape=[None, n_inputs])\n",
    "X_noisy = X + noise_level * tf.random_normal(tf.shape(X))\n",
    "\n",
    "hidden1 = tf.layers.dense(X_noisy, n_hidden1, activation=tf.nn.relu, name=\"hidden1\")\n",
    "hidden2 = tf.layers.dense(hidden1, n_hidden2, activation=tf.nn.relu, name=\"hidden2\")\n",
    "hidden3 = tf.layers.dense(hidden2, n_hidden3, activation=tf.nn.relu, name=\"hidden3\")\n",
    "outputs = tf.layers.dense(hidden3, n_outputs, name=\"outputs\")\n",
    "\n",
    "reconstruction_loss = tf.reduce_mean(tf.square(outputs - X))"
   ]
  },
  {
   "cell_type": "code",
   "execution_count": 35,
   "metadata": {},
   "outputs": [],
   "source": [
    "optimizer = tf.train.AdamOptimizer(learning_rate)\n",
    "training_op = optimizer.minimize(reconstruction_loss)\n",
    "\n",
    "init = tf.global_variables_initializer()\n",
    "saver = tf.train.Saver()"
   ]
  },
  {
   "cell_type": "code",
   "execution_count": 36,
   "metadata": {},
   "outputs": [
    {
     "name": "stdout",
     "output_type": "stream",
     "text": [
      "0 Train MSE:  0.04390057\n",
      "1 Train MSE:  0.04327198\n",
      "2 Train MSE:  0.042042878\n",
      "3 Train MSE:  0.040703475\n",
      "4 Train MSE:  0.040245567\n",
      "5 Train MSE:  0.038696505\n",
      "6 Train MSE:  0.039343018\n",
      "7 Train MSE:  0.04257301\n",
      "8 Train MSE:  0.04024972\n",
      "9 Train MSE:  0.04160908\n"
     ]
    }
   ],
   "source": [
    "n_epochs = 10 \n",
    "batch_size = 150 \n",
    "\n",
    "with tf.Session() as sess:\n",
    "    init.run()\n",
    "    for epoch in range(n_epochs):\n",
    "        n_batches = mnist.train.num_examples // batch_size\n",
    "        for iteration in range(n_batches):\n",
    "            print(\"\\r{}%\".format(100 * iteration // n_batches), end=\"\")\n",
    "            sys.stdout.flush()\n",
    "            X_batch, y_batch = mnist.train.next_batch(batch_size)\n",
    "            sess.run(training_op, feed_dict={X: X_batch})\n",
    "        loss_train = reconstruction_loss.eval(feed_dict={X:X_batch})\n",
    "        print(\"\\r{}\".format(epoch),\"Train MSE: \",loss_train)\n",
    "        saver.save(sess,\"./my_model_stacked_denoising_gaussian.ckpt\")"
   ]
  },
  {
   "cell_type": "code",
   "execution_count": 37,
   "metadata": {},
   "outputs": [],
   "source": [
    "#Using dropout\n",
    "reset_graph()\n",
    "\n",
    "n_inputs = 28 * 28\n",
    "n_hidden1 = 300\n",
    "n_hidden2 = 150 \n",
    "n_hidden3 =  n_hidden1\n",
    "\n",
    "learning_rate = 0.01"
   ]
  },
  {
   "cell_type": "code",
   "execution_count": 38,
   "metadata": {},
   "outputs": [],
   "source": [
    "dropout_rate = 0.3\n",
    "training = tf.placeholder_with_default(False, shape=(), name='training')\n",
    "\n",
    "X = tf.placeholder(tf.float32, shape=[None, n_inputs])\n",
    "X_drop = tf.layers.dropout(X, dropout_rate, training=training)\n",
    "\n",
    "hidden1 = tf.layers.dense(X_drop, n_hidden1, activation=tf.nn.relu, name=\"hidden1\")\n",
    "hidden2 = tf.layers.dense(hidden1, n_hidden2, activation=tf.nn.relu, name=\"hidden2\")\n",
    "hidden3 = tf.layers.dense(hidden2, n_hidden3, activation=tf.nn.relu, name=\"hidden3\")\n",
    "outputs = tf.layers.dense(hidden3, n_outputs, name=\"outputs\")\n",
    "\n",
    "reconstruction_loss = tf.reduce_mean(tf.square(outputs - X))"
   ]
  },
  {
   "cell_type": "code",
   "execution_count": 39,
   "metadata": {},
   "outputs": [],
   "source": [
    "optimizer = tf.train.AdamOptimizer(learning_rate)\n",
    "training_op = optimizer.minimize(reconstruction_loss)\n",
    "\n",
    "init = tf.global_variables_initializer()\n",
    "saver = tf.train.Saver()"
   ]
  },
  {
   "cell_type": "code",
   "execution_count": 40,
   "metadata": {},
   "outputs": [
    {
     "name": "stdout",
     "output_type": "stream",
     "text": [
      "0 Train MSE: 0.029460266\n",
      "1 Train MSE: 0.028333139\n",
      "2 Train MSE: 0.025265342\n",
      "3 Train MSE: 0.025670337\n",
      "4 Train MSE: 0.02505453\n",
      "5 Train MSE: 0.025872625\n",
      "6 Train MSE: 0.024758691\n",
      "7 Train MSE: 0.02550465\n",
      "8 Train MSE: 0.02518992\n",
      "9 Train MSE: 0.024919135\n"
     ]
    }
   ],
   "source": [
    "n_epochs = 10\n",
    "batch_size = 150\n",
    "\n",
    "with tf.Session() as sess:\n",
    "    init.run()\n",
    "    for epoch in range(n_epochs):\n",
    "        n_batches = mnist.train.num_examples // batch_size\n",
    "        for iteration in range(n_batches):\n",
    "            print(\"\\r{}%\".format(100 * iteration // n_batches), end=\"\")\n",
    "            sys.stdout.flush()\n",
    "            X_batch, y_batch = mnist.train.next_batch(batch_size)\n",
    "            sess.run(training_op, feed_dict={X: X_batch, training: True})\n",
    "        loss_train = reconstruction_loss.eval(feed_dict={X: X_batch})\n",
    "        print(\"\\r{}\".format(epoch), \"Train MSE:\", loss_train)\n",
    "        saver.save(sess, \"./my_model_stacked_denoising_dropout.ckpt\")"
   ]
  },
  {
   "cell_type": "code",
   "execution_count": 41,
   "metadata": {},
   "outputs": [
    {
     "name": "stdout",
     "output_type": "stream",
     "text": [
      "INFO:tensorflow:Restoring parameters from ./my_model_stacked_denoising_dropout.ckpt\n"
     ]
    },
    {
     "data": {
      "image/png": "[encoded data removed]",
      "text/plain": [
       "<Figure size 576x864 with 8 Axes>"
      ]
     },
     "metadata": {
      "needs_background": "light"
     },
     "output_type": "display_data"
    }
   ],
   "source": [
    "show_reconstructed_digits(X, outputs, \"./my_model_stacked_denoising_dropout.ckpt\")"
   ]
  },
  {
   "cell_type": "code",
   "execution_count": 42,
   "metadata": {},
   "outputs": [
    {
     "data": {
      "text/plain": [
       "[0, 1, 0, 0.95]"
      ]
     },
     "execution_count": 42,
     "metadata": {},
     "output_type": "execute_result"
    },
    {
     "data": {
      "image/png": "[encoded data removed]",
      "text/plain": [
       "<Figure size 432x288 with 1 Axes>"
      ]
     },
     "metadata": {
      "needs_background": "light"
     },
     "output_type": "display_data"
    }
   ],
   "source": [
    "p = 0.1 \n",
    "q = np.linspace(0.001, 0.999, 500)\n",
    "kl_div = p * np.log(p/q) + (1-p) * np.log((1-p)/(1-q))\n",
    "mse = (p-q)**2\n",
    "plt.plot([p, p],[0, 0.3], \"k:\")\n",
    "plt.text(0.05,0.32, \"Target\\nsparsity\",fontsize=14)\n",
    "plt.plot(q, kl_div,\"b-\",label=\"KL divergence\")\n",
    "plt.plot(q, mse, \"r--\",label=\"MSE\")\n",
    "plt.legend(loc=\"upper left\")\n",
    "plt.xlabel(\"Actual parsity\")\n",
    "plt.ylabel(\"Cost\",rotation=0)\n",
    "plt.axis([0, 1, 0, 0.95])"
   ]
  },
  {
   "cell_type": "code",
   "execution_count": 43,
   "metadata": {},
   "outputs": [],
   "source": [
    "reset_graph()\n",
    "\n",
    "n_inputs = 28 * 28 \n",
    "n_hidden1 = 1000\n",
    "n_outputs = n_inputs"
   ]
  },
  {
   "cell_type": "code",
   "execution_count": 44,
   "metadata": {},
   "outputs": [],
   "source": [
    "#Kullback-Leibler divergence\n",
    "def kl_divergence(p, q):\n",
    "    return p * tf.log(p/q) + (1-p)*tf.log((1-p)/(1-q))\n",
    "\n",
    "learning_rate = 0.01\n",
    "sparsity_target = 0.1\n",
    "sparsity_weight = 0.2\n",
    "\n",
    "X = tf.placeholder(tf.float32, shape=[None, n_inputs])\n",
    "\n",
    "hidden1 = tf.layers.dense(X, n_hidden1, activation=tf.nn.sigmoid)\n",
    "outputs = tf.layers.dense(hidden1, n_outputs)\n",
    "\n",
    "hidden1_mean = tf.reduce_mean(hidden1,axis=0)\n",
    "sparsity_loss = tf.reduce_sum(kl_divergence(sparsity_target, hidden1_mean))\n",
    "reconstruction_loss = tf.reduce_mean(tf.square(outputs - X))\n",
    "loss = reconstruction_loss + sparsity_weight * sparsity_loss\n",
    "\n",
    "optimizer = tf.train.AdamOptimizer(learning_rate)\n",
    "training_op = optimizer.minimize(loss)  "
   ]
  },
  {
   "cell_type": "code",
   "execution_count": 45,
   "metadata": {},
   "outputs": [],
   "source": [
    "init = tf.global_variables_initializer()\n",
    "saver = tf.train.Saver()"
   ]
  },
  {
   "cell_type": "code",
   "execution_count": 46,
   "metadata": {},
   "outputs": [
    {
     "name": "stdout",
     "output_type": "stream",
     "text": [
      "0 Train MSE: 0.13819475 \tSparsity loss: 0.41844413 \tTotal loss: 0.22188358\n",
      "1 Train MSE: 0.059185907 \tSparsity loss: 0.010747653 \tTotal loss: 0.061335437\n",
      "2 Train MSE: 0.053931113 \tSparsity loss: 0.019957468 \tTotal loss: 0.057922605\n",
      "3 Train MSE: 0.04771372 \tSparsity loss: 0.039470937 \tTotal loss: 0.055607907\n",
      "4 Train MSE: 0.044841796 \tSparsity loss: 0.011593082 \tTotal loss: 0.047160413\n",
      "5 Train MSE: 0.04044193 \tSparsity loss: 0.09246916 \tTotal loss: 0.05893576\n",
      "6 Train MSE: 0.03886659 \tSparsity loss: 0.045811534 \tTotal loss: 0.048028897\n",
      "7 Train MSE: 0.037868652 \tSparsity loss: 0.0749799 \tTotal loss: 0.052864634\n",
      "8 Train MSE: 0.033122517 \tSparsity loss: 0.020322183 \tTotal loss: 0.037186954\n",
      "98% Train MSE: 0.031449173 \tSparsity loss: 0.095670395 \tTotal loss: 0.05058325\n",
      "10% Train MSE: 0.027398113 \tSparsity loss: 0.065706715 \tTotal loss: 0.04053946\n",
      "11 Train MSE: 0.024734963 \tSparsity loss: 0.08889331 \tTotal loss: 0.042513624\n",
      "12 Train MSE: 0.023367295 \tSparsity loss: 0.057660993 \tTotal loss: 0.034899496\n",
      "13 Train MSE: 0.023007901 \tSparsity loss: 0.061935455 \tTotal loss: 0.035394993\n",
      "14% Train MSE: 0.02123353 \tSparsity loss: 0.025881412 \tTotal loss: 0.026409812\n",
      "15 Train MSE: 0.02206469 \tSparsity loss: 0.48820382 \tTotal loss: 0.11970545\n",
      "16 Train MSE: 0.01910253 \tSparsity loss: 0.032203525 \tTotal loss: 0.025543235\n",
      "17 Train MSE: 0.01898219 \tSparsity loss: 0.12995128 \tTotal loss: 0.04497245\n",
      "18 Train MSE: 0.017487913 \tSparsity loss: 0.0350016 \tTotal loss: 0.024488233\n",
      "19 Train MSE: 0.017776337 \tSparsity loss: 0.1102428 \tTotal loss: 0.039824896\n",
      "20 Train MSE: 0.016910141 \tSparsity loss: 0.030319959 \tTotal loss: 0.022974133\n",
      "21 Train MSE: 0.018679725 \tSparsity loss: 0.36376676 \tTotal loss: 0.09143308\n",
      "22 Train MSE: 0.016285753 \tSparsity loss: 0.055483475 \tTotal loss: 0.027382448\n",
      "23 Train MSE: 0.015950203 \tSparsity loss: 0.0793651 \tTotal loss: 0.031823225\n",
      "24 Train MSE: 0.015672017 \tSparsity loss: 0.14289315 \tTotal loss: 0.044250645\n",
      "25 Train MSE: 0.014612303 \tSparsity loss: 0.13330743 \tTotal loss: 0.041273788\n",
      "26 Train MSE: 0.014524783 \tSparsity loss: 0.1094815 \tTotal loss: 0.036421083\n",
      "27 Train MSE: 0.013598451 \tSparsity loss: 0.07208325 \tTotal loss: 0.028015101\n",
      "28 Train MSE: 0.014069849 \tSparsity loss: 0.1578954 \tTotal loss: 0.04564893\n",
      "29 Train MSE: 0.013441612 \tSparsity loss: 0.14449252 \tTotal loss: 0.04234012\n",
      "30 Train MSE: 0.013608928 \tSparsity loss: 0.1850702 \tTotal loss: 0.05062297\n",
      "31 Train MSE: 0.014197283 \tSparsity loss: 0.067886196 \tTotal loss: 0.027774524\n",
      "32 Train MSE: 0.013759439 \tSparsity loss: 0.057575405 \tTotal loss: 0.025274519\n",
      "33 Train MSE: 0.013667366 \tSparsity loss: 0.11363445 \tTotal loss: 0.036394257\n",
      "34 Train MSE: 0.012646968 \tSparsity loss: 0.13469774 \tTotal loss: 0.039586514\n",
      "35 Train MSE: 0.0128729325 \tSparsity loss: 0.16850609 \tTotal loss: 0.046574153\n",
      "36 Train MSE: 0.012669458 \tSparsity loss: 0.09313075 \tTotal loss: 0.03129561\n",
      "37 Train MSE: 0.012427667 \tSparsity loss: 0.10538666 \tTotal loss: 0.033505\n",
      "38 Train MSE: 0.012336044 \tSparsity loss: 0.19235817 \tTotal loss: 0.050807677\n",
      "39 Train MSE: 0.012337873 \tSparsity loss: 0.1423167 \tTotal loss: 0.040801212\n",
      "40 Train MSE: 0.012627313 \tSparsity loss: 0.23267429 \tTotal loss: 0.05916217\n",
      "41 Train MSE: 0.012383334 \tSparsity loss: 0.10489154 \tTotal loss: 0.033361644\n",
      "42 Train MSE: 0.011781143 \tSparsity loss: 0.10161285 \tTotal loss: 0.032103714\n",
      "43 Train MSE: 0.012043875 \tSparsity loss: 0.13594073 \tTotal loss: 0.039232023\n",
      "44 Train MSE: 0.011620556 \tSparsity loss: 0.1147275 \tTotal loss: 0.034566056\n",
      "45 Train MSE: 0.011668704 \tSparsity loss: 0.15797953 \tTotal loss: 0.043264613\n",
      "46 Train MSE: 0.011764474 \tSparsity loss: 0.13549381 \tTotal loss: 0.038863238\n",
      "47 Train MSE: 0.011550483 \tSparsity loss: 0.15660217 \tTotal loss: 0.042870916\n",
      "48 Train MSE: 0.011671591 \tSparsity loss: 0.44306898 \tTotal loss: 0.10028539\n",
      "49% Train MSE: 0.011562673 \tSparsity loss: 0.1758465 \tTotal loss: 0.04673197\n",
      "50 Train MSE: 0.011362458 \tSparsity loss: 0.18886507 \tTotal loss: 0.04913547\n",
      "51 Train MSE: 0.011539898 \tSparsity loss: 0.26338598 \tTotal loss: 0.06421709\n",
      "52 Train MSE: 0.012073991 \tSparsity loss: 0.36756605 \tTotal loss: 0.0855872\n",
      "53 Train MSE: 0.011244458 \tSparsity loss: 0.12488039 \tTotal loss: 0.036220536\n",
      "54 Train MSE: 0.013885834 \tSparsity loss: 0.43314186 \tTotal loss: 0.1005142\n",
      "55 Train MSE: 0.012749869 \tSparsity loss: 0.07718308 \tTotal loss: 0.028186485\n",
      "56 Train MSE: 0.012228283 \tSparsity loss: 0.30155492 \tTotal loss: 0.07253927\n",
      "57 Train MSE: 0.012688499 \tSparsity loss: 0.24828771 \tTotal loss: 0.06234604\n",
      "58 Train MSE: 0.023532085 \tSparsity loss: 0.2327971 \tTotal loss: 0.0700915\n",
      "59 Train MSE: 0.013521187 \tSparsity loss: 0.19810951 \tTotal loss: 0.053143088\n",
      "60 Train MSE: 0.019254683 \tSparsity loss: 0.19428852 \tTotal loss: 0.05811239\n",
      "61 Train MSE: 0.013043199 \tSparsity loss: 0.22926626 \tTotal loss: 0.058896452\n",
      "62 Train MSE: 0.014344007 \tSparsity loss: 0.479839 \tTotal loss: 0.110311806\n",
      "63 Train MSE: 0.014422084 \tSparsity loss: 0.33382726 \tTotal loss: 0.08118753\n",
      "64 Train MSE: 0.012038619 \tSparsity loss: 0.17779876 \tTotal loss: 0.047598373\n",
      "65 Train MSE: 0.015860924 \tSparsity loss: 0.1852069 \tTotal loss: 0.052902304\n",
      "66 Train MSE: 0.015135594 \tSparsity loss: 0.9836648 \tTotal loss: 0.21186855\n",
      "67 Train MSE: 0.036578253 \tSparsity loss: 0.3121564 \tTotal loss: 0.099009536\n",
      "68 Train MSE: 0.015500346 \tSparsity loss: 0.21936695 \tTotal loss: 0.059373736\n",
      "69 Train MSE: 0.012719125 \tSparsity loss: 0.44064283 \tTotal loss: 0.10084769\n",
      "70 Train MSE: 0.040066637 \tSparsity loss: 0.7466418 \tTotal loss: 0.18939501\n",
      "71 Train MSE: 0.014556106 \tSparsity loss: 0.24099737 \tTotal loss: 0.062755585\n",
      "72 Train MSE: 0.016774712 \tSparsity loss: 0.7971651 \tTotal loss: 0.17620774\n",
      "73 Train MSE: 0.01402113 \tSparsity loss: 0.31702533 \tTotal loss: 0.077426195\n",
      "74 Train MSE: 0.03341898 \tSparsity loss: 0.32374316 \tTotal loss: 0.09816761\n",
      "75 Train MSE: 0.03463322 \tSparsity loss: 0.5071248 \tTotal loss: 0.13605818\n",
      "76 Train MSE: 0.018982489 \tSparsity loss: 0.20077676 \tTotal loss: 0.05913784\n",
      "77 Train MSE: 0.019796051 \tSparsity loss: 0.31275594 \tTotal loss: 0.082347244\n",
      "78 Train MSE: 0.017217873 \tSparsity loss: 0.5356994 \tTotal loss: 0.12435776\n",
      "79 Train MSE: 0.019547371 \tSparsity loss: 0.42337054 \tTotal loss: 0.104221486\n",
      "80 Train MSE: 0.015869822 \tSparsity loss: 0.11557991 \tTotal loss: 0.038985804\n",
      "81 Train MSE: 0.0128142275 \tSparsity loss: 0.87961715 \tTotal loss: 0.18873766\n",
      "82 Train MSE: 0.015809558 \tSparsity loss: 2.1375673 \tTotal loss: 0.44332302\n",
      "83 Train MSE: 0.014773857 \tSparsity loss: 0.6602142 \tTotal loss: 0.1468167\n",
      "84 Train MSE: 0.014599752 \tSparsity loss: 0.27073658 \tTotal loss: 0.068747066\n",
      "85 Train MSE: 0.028276952 \tSparsity loss: 0.936731 \tTotal loss: 0.21562316\n",
      "86 Train MSE: 0.015176142 \tSparsity loss: 0.68489444 \tTotal loss: 0.15215504\n",
      "87 Train MSE: 0.012090628 \tSparsity loss: 1.4163997 \tTotal loss: 0.29537058\n",
      "88 Train MSE: 0.019939028 \tSparsity loss: 0.86064875 \tTotal loss: 0.19206879\n",
      "89 Train MSE: 0.030394908 \tSparsity loss: 0.29466784 \tTotal loss: 0.089328475\n",
      "90 Train MSE: 0.02679985 \tSparsity loss: 0.4620595 \tTotal loss: 0.11921175\n",
      "91 Train MSE: 0.0148090245 \tSparsity loss: 0.100168176 \tTotal loss: 0.03484266\n",
      "92 Train MSE: 0.016125131 \tSparsity loss: 0.38760796 \tTotal loss: 0.09364672\n",
      "93 Train MSE: 0.01583529 \tSparsity loss: 0.16339487 \tTotal loss: 0.04851426\n",
      "94 Train MSE: 0.01223975 \tSparsity loss: 0.117269486 \tTotal loss: 0.035693645\n",
      "95 Train MSE: 0.014084335 \tSparsity loss: 0.10270851 \tTotal loss: 0.034626037\n",
      "96 Train MSE: 0.018751057 \tSparsity loss: 0.23795675 \tTotal loss: 0.066342406\n",
      "97 Train MSE: 0.013839577 \tSparsity loss: 0.108901486 \tTotal loss: 0.035619874\n",
      "98 Train MSE: 0.013948341 \tSparsity loss: 0.08877279 \tTotal loss: 0.0317029\n",
      "99 Train MSE: 0.023569833 \tSparsity loss: 0.33277765 \tTotal loss: 0.09012537\n"
     ]
    }
   ],
   "source": [
    "n_epochs = 100\n",
    "batch_size = 1000\n",
    "\n",
    "with tf.Session() as sess:\n",
    "    init.run()\n",
    "    for epoch in range(n_epochs):\n",
    "        n_batches = mnist.train.num_examples // batch_size\n",
    "        for iteration in range(n_batches):\n",
    "            print(\"\\r{}%\".format(100 * iteration // n_batches), end=\"\")\n",
    "            sys.stdout.flush()\n",
    "            X_batch, y_batch = mnist.train.next_batch(batch_size)\n",
    "            sess.run(training_op, feed_dict={X: X_batch})\n",
    "        reconstruction_loss_val, sparsity_loss_val, loss_val = sess.run([reconstruction_loss, sparsity_loss, loss],feed_dict={X:X_batch})\n",
    "        print(\"\\r{}\".format(epoch), \"Train MSE:\", reconstruction_loss_val,\"\\tSparsity loss:\",sparsity_loss_val,\"\\tTotal loss:\",loss_val)\n",
    "        saver.save(sess, \"./my_model_sparse.ckpt\")"
   ]
  },
  {
   "cell_type": "code",
   "execution_count": 47,
   "metadata": {},
   "outputs": [
    {
     "name": "stdout",
     "output_type": "stream",
     "text": [
      "INFO:tensorflow:Restoring parameters from ./my_model_sparse.ckpt\n"
     ]
    },
    {
     "data": {
      "image/png": "[encoded data removed]",
      "text/plain": [
       "<Figure size 576x864 with 8 Axes>"
      ]
     },
     "metadata": {
      "needs_background": "light"
     },
     "output_type": "display_data"
    }
   ],
   "source": [
    "show_reconstructed_digits(X, outputs, \"./my_model_sparse.ckpt\")"
   ]
  },
  {
   "cell_type": "code",
   "execution_count": 48,
   "metadata": {},
   "outputs": [],
   "source": [
    "hidden1 = tf.layers.dense(X, n_hidden1, activation=tf.nn.sigmoid)"
   ]
  },
  {
   "cell_type": "code",
   "execution_count": 49,
   "metadata": {},
   "outputs": [],
   "source": [
    "logits = tf.layers.dense(hidden1, n_outputs)\n",
    "outputs = tf.nn.sigmoid(logits)\n",
    "\n",
    "xentropy = tf.nn.sigmoid_cross_entropy_with_logits(labels=X, logits=logits)\n",
    "reconstruction_loss = tf.reduce_mean(xentropy)"
   ]
  },
  {
   "cell_type": "code",
   "execution_count": 50,
   "metadata": {},
   "outputs": [],
   "source": [
    "reset_graph()\n",
    "\n",
    "from functools import partial\n",
    "\n",
    "n_inputs = 28 * 28\n",
    "n_hidden1 = 500\n",
    "n_hidden2 = 500\n",
    "n_hidden3 = 20  # codings\n",
    "n_hidden4 = n_hidden2\n",
    "n_hidden5 = n_hidden1\n",
    "n_outputs = n_inputs\n",
    "learning_rate = 0.001\n",
    "\n",
    "initializer = tf.contrib.layers.variance_scaling_initializer()\n",
    "\n",
    "my_dense_layer = partial(\n",
    "    tf.layers.dense,\n",
    "    activation=tf.nn.elu,\n",
    "    kernel_initializer=initializer)\n",
    "\n",
    "X = tf.placeholder(tf.float32, [None, n_inputs])\n",
    "hidden1 = my_dense_layer(X, n_hidden1)\n",
    "hidden2 = my_dense_layer(hidden1, n_hidden2)\n",
    "hidden3_mean = my_dense_layer(hidden2, n_hidden3, activation=None)\n",
    "hidden3_sigma = my_dense_layer(hidden2, n_hidden3, activation=None)\n",
    "noise = tf.random_normal(tf.shape(hidden3_sigma), dtype=tf.float32)\n",
    "hidden3 = hidden3_mean + hidden3_sigma * noise\n",
    "hidden4 = my_dense_layer(hidden3, n_hidden4)\n",
    "hidden5 = my_dense_layer(hidden4, n_hidden5)\n",
    "logits = my_dense_layer(hidden5, n_outputs, activation=None)\n",
    "outputs = tf.sigmoid(logits)\n",
    "\n",
    "xentropy = tf.nn.sigmoid_cross_entropy_with_logits(labels=X, logits=logits)\n",
    "reconstruction_loss = tf.reduce_sum(xentropy)"
   ]
  },
  {
   "cell_type": "code",
   "execution_count": 51,
   "metadata": {},
   "outputs": [],
   "source": [
    "eps = 1e-10 \n",
    "latent_loss = 0.5 * tf.reduce_sum(\n",
    "    tf.square(hidden3_sigma) + tf.square(hidden3_mean)\n",
    "    - 1 - tf.log(eps + tf.square(hidden3_sigma)))"
   ]
  },
  {
   "cell_type": "code",
   "execution_count": 52,
   "metadata": {},
   "outputs": [],
   "source": [
    "loss = reconstruction_loss + latent_loss\n",
    "\n",
    "optimizer = tf.train.AdamOptimizer(learning_rate=learning_rate)\n",
    "training_op = optimizer.minimize(loss)\n",
    "\n",
    "init = tf.global_variables_initializer()\n",
    "saver = tf.train.Saver()"
   ]
  },
  {
   "cell_type": "code",
   "execution_count": 53,
   "metadata": {},
   "outputs": [
    {
     "name": "stdout",
     "output_type": "stream",
     "text": [
      "09% Train total loss: 28985.145 \tReconstruction loss: 23342.797 \tLatent loss: 5642.347\n",
      "1 Train total loss: 34219.312 \tReconstruction loss: 23981.613 \tLatent loss: 10237.697\n",
      "2 Train total loss: 31462.223 \tReconstruction loss: 25501.3 \tLatent loss: 5960.9214\n",
      "3 Train total loss: 24719.574 \tReconstruction loss: 20762.422 \tLatent loss: 3957.1519\n",
      "4 Train total loss: 22821.863 \tReconstruction loss: 19872.977 \tLatent loss: 2948.8872\n",
      "5 Train total loss: 21471.1 \tReconstruction loss: 18288.871 \tLatent loss: 3182.229\n",
      "6 Train total loss: 19428.887 \tReconstruction loss: 16467.492 \tLatent loss: 2961.3955\n",
      "7 Train total loss: 18528.72 \tReconstruction loss: 15494.085 \tLatent loss: 3034.6357\n",
      "8 Train total loss: 17028.191 \tReconstruction loss: 13992.605 \tLatent loss: 3035.5852\n",
      "9 Train total loss: 17213.771 \tReconstruction loss: 14085.727 \tLatent loss: 3128.0444\n",
      "10 Train total loss: 17671.855 \tReconstruction loss: 13876.689 \tLatent loss: 3795.166\n",
      "11 Train total loss: 16228.463 \tReconstruction loss: 13102.3545 \tLatent loss: 3126.1082\n",
      "12 Train total loss: 16379.71 \tReconstruction loss: 13155.354 \tLatent loss: 3224.3564\n",
      "13 Train total loss: 16130.409 \tReconstruction loss: 13002.486 \tLatent loss: 3127.9229\n",
      "14 Train total loss: 16591.117 \tReconstruction loss: 13208.271 \tLatent loss: 3382.8467\n",
      "15 Train total loss: 16457.254 \tReconstruction loss: 13199.834 \tLatent loss: 3257.4194\n",
      "16 Train total loss: 17330.967 \tReconstruction loss: 14012.119 \tLatent loss: 3318.8477\n",
      "17 Train total loss: 16487.203 \tReconstruction loss: 13143.495 \tLatent loss: 3343.7073\n",
      "18 Train total loss: 22402.86 \tReconstruction loss: 16462.98 \tLatent loss: 5939.879\n",
      "19 Train total loss: 18155.672 \tReconstruction loss: 14920.512 \tLatent loss: 3235.1594\n",
      "20 Train total loss: 35763.2 \tReconstruction loss: 24178.451 \tLatent loss: 11584.748\n",
      "21 Train total loss: 31602.89 \tReconstruction loss: 21791.98 \tLatent loss: 9810.911\n",
      "22 Train total loss: 21220.23 \tReconstruction loss: 17383.514 \tLatent loss: 3836.7173\n",
      "23 Train total loss: 19151.5 \tReconstruction loss: 15754.582 \tLatent loss: 3396.9172\n",
      "24 Train total loss: 16977.129 \tReconstruction loss: 13797.941 \tLatent loss: 3179.1873\n",
      "25 Train total loss: 16112.118 \tReconstruction loss: 12889.414 \tLatent loss: 3222.704\n",
      "26 Train total loss: 16308.384 \tReconstruction loss: 12969.57 \tLatent loss: 3338.8135\n",
      "27 Train total loss: 16271.604 \tReconstruction loss: 12940.239 \tLatent loss: 3331.3638\n",
      "28 Train total loss: 15701.298 \tReconstruction loss: 12467.205 \tLatent loss: 3234.0928\n",
      "29 Train total loss: 15772.572 \tReconstruction loss: 12462.549 \tLatent loss: 3310.0237\n",
      "30 Train total loss: 16008.492 \tReconstruction loss: 12815.352 \tLatent loss: 3193.1406\n",
      "31 Train total loss: 15384.505 \tReconstruction loss: 11967.816 \tLatent loss: 3416.6887\n",
      "32 Train total loss: 16898.398 \tReconstruction loss: 13643.894 \tLatent loss: 3254.5054\n",
      "33 Train total loss: 17829.152 \tReconstruction loss: 14823.656 \tLatent loss: 3005.4954\n",
      "34 Train total loss: 17311.574 \tReconstruction loss: 13678.625 \tLatent loss: 3632.9482\n",
      "35 Train total loss: 16305.583 \tReconstruction loss: 12596.203 \tLatent loss: 3709.38\n",
      "36 Train total loss: 16977.63 \tReconstruction loss: 13905.266 \tLatent loss: 3072.365\n",
      "37 Train total loss: 16885.746 \tReconstruction loss: 13531.209 \tLatent loss: 3354.5378\n",
      "38 Train total loss: 16496.629 \tReconstruction loss: 12980.367 \tLatent loss: 3516.261\n",
      "39 Train total loss: 15948.354 \tReconstruction loss: 12638.079 \tLatent loss: 3310.2744\n",
      "40 Train total loss: 19753.473 \tReconstruction loss: 15284.533 \tLatent loss: 4468.94\n",
      "41 Train total loss: 15730.048 \tReconstruction loss: 12531.434 \tLatent loss: 3198.614\n",
      "42 Train total loss: 16588.701 \tReconstruction loss: 13372.277 \tLatent loss: 3216.424\n",
      "43 Train total loss: 15869.459 \tReconstruction loss: 12508.577 \tLatent loss: 3360.8818\n",
      "44 Train total loss: 15526.22 \tReconstruction loss: 12325.019 \tLatent loss: 3201.2012\n",
      "45 Train total loss: 15485.356 \tReconstruction loss: 12026.809 \tLatent loss: 3458.5476\n",
      "46 Train total loss: 15635.342 \tReconstruction loss: 12276.065 \tLatent loss: 3359.2769\n",
      "47 Train total loss: 15117.549 \tReconstruction loss: 11699.748 \tLatent loss: 3417.8003\n",
      "48 Train total loss: 27169.105 \tReconstruction loss: 21149.969 \tLatent loss: 6019.1357\n",
      "49 Train total loss: 24558.924 \tReconstruction loss: 19443.535 \tLatent loss: 5115.3887\n"
     ]
    }
   ],
   "source": [
    "n_epochs = 50\n",
    "batch_size = 150\n",
    "\n",
    "with tf.Session() as sess:\n",
    "    init.run()\n",
    "    for epoch in range(n_epochs):\n",
    "        n_batches = mnist.train.num_examples // batch_size\n",
    "        for iteration in range(n_batches):\n",
    "            print(\"\\r{}%\".format(100 * iteration // n_batches), end=\"\")\n",
    "            sys.stdout.flush()\n",
    "            X_batch, y_batch = mnist.train.next_batch(batch_size)\n",
    "            sess.run(training_op, feed_dict={X: X_batch})\n",
    "        loss_val, reconstruction_loss_val, latent_loss_val = sess.run([loss, reconstruction_loss, latent_loss], feed_dict={X: X_batch})\n",
    "        print(\"\\r{}\".format(epoch), \"Train total loss:\", loss_val, \"\\tReconstruction loss:\", reconstruction_loss_val, \"\\tLatent loss:\", latent_loss_val)\n",
    "        saver.save(sess, \"./my_model_variational.ckpt\")"
   ]
  },
  {
   "cell_type": "code",
   "execution_count": 57,
   "metadata": {},
   "outputs": [],
   "source": [
    "reset_graph()\n",
    "\n",
    "from functools import partial\n",
    "\n",
    "n_inputs = 28 * 28\n",
    "n_hidden1 = 500\n",
    "n_hidden2 = 500\n",
    "n_hidden3 = 20  # codings\n",
    "n_hidden4 = n_hidden2\n",
    "n_hidden5 = n_hidden1\n",
    "n_outputs = n_inputs\n",
    "learning_rate = 0.001\n",
    "\n",
    "initializer = tf.contrib.layers.variance_scaling_initializer()\n",
    "my_dense_layer = partial(\n",
    "    tf.layers.dense,\n",
    "    activation=tf.nn.elu,\n",
    "    kernel_initializer=initializer)\n",
    "\n",
    "X = tf.placeholder(tf.float32, [None, n_inputs])\n",
    "hidden1 = my_dense_layer(X, n_hidden1)\n",
    "hidden2 = my_dense_layer(hidden1, n_hidden2)\n",
    "hidden3_mean = my_dense_layer(hidden2, n_hidden3, activation=None)\n",
    "hidden3_gamma = my_dense_layer(hidden2, n_hidden3, activation=None)\n",
    "noise = tf.random_normal(tf.shape(hidden3_gamma), dtype=tf.float32)\n",
    "hidden3 = hidden3_mean + tf.exp(0.5 * hidden3_gamma) * noise\n",
    "hidden4 = my_dense_layer(hidden3, n_hidden4)\n",
    "hidden5 = my_dense_layer(hidden4, n_hidden5)\n",
    "logits = my_dense_layer(hidden5, n_outputs, activation=None)\n",
    "outputs = tf.sigmoid(logits)\n",
    "\n",
    "xentropy = tf.nn.sigmoid_cross_entropy_with_logits(labels=X, logits=logits)\n",
    "reconstruction_loss = tf.reduce_sum(xentropy)\n",
    "latent_loss = 0.5 * tf.reduce_sum(\n",
    "    tf.exp(hidden3_gamma) + tf.square(hidden3_mean) - 1 - hidden3_gamma)\n",
    "loss = reconstruction_loss + latent_loss\n",
    "\n",
    "optimizer = tf.train.AdamOptimizer(learning_rate=learning_rate)\n",
    "training_op = optimizer.minimize(loss)\n",
    "\n",
    "init = tf.global_variables_initializer()\n",
    "saver = tf.train.Saver()"
   ]
  },
  {
   "cell_type": "code",
   "execution_count": 58,
   "metadata": {},
   "outputs": [
    {
     "name": "stdout",
     "output_type": "stream",
     "text": [
      "0 Train total loss: 18043.408 \tReconstruction loss: 14406.067 \tLatent loss: 3637.3416\n",
      "1 Train total loss: 17206.91 \tReconstruction loss: 13462.023 \tLatent loss: 3744.8867\n",
      "2 Train total loss: 16587.035 \tReconstruction loss: 12852.231 \tLatent loss: 3734.8037\n",
      "3 Train total loss: 16720.016 \tReconstruction loss: 12957.56 \tLatent loss: 3762.457\n",
      "4 Train total loss: 15769.812 \tReconstruction loss: 12056.574 \tLatent loss: 3713.237\n",
      "5 Train total loss: 16081.14 \tReconstruction loss: 12334.724 \tLatent loss: 3746.416\n",
      "6 Train total loss: 15903.83 \tReconstruction loss: 12113.489 \tLatent loss: 3790.3406\n",
      "7 Train total loss: 15518.173 \tReconstruction loss: 11870.521 \tLatent loss: 3647.6514\n",
      "8 Train total loss: 15917.693 \tReconstruction loss: 12053.894 \tLatent loss: 3863.7998\n",
      "9 Train total loss: 15876.034 \tReconstruction loss: 12035.652 \tLatent loss: 3840.3816\n",
      "10 Train total loss: 15508.796 \tReconstruction loss: 11776.291 \tLatent loss: 3732.505\n",
      "11 Train total loss: 15729.081 \tReconstruction loss: 11898.21 \tLatent loss: 3830.871\n",
      "12 Train total loss: 15358.57 \tReconstruction loss: 11538.548 \tLatent loss: 3820.022\n",
      "13 Train total loss: 15556.221 \tReconstruction loss: 11901.307 \tLatent loss: 3654.9136\n",
      "14 Train total loss: 15360.957 \tReconstruction loss: 11574.916 \tLatent loss: 3786.0405\n",
      "15 Train total loss: 14792.389 \tReconstruction loss: 11165.139 \tLatent loss: 3627.25\n",
      "16 Train total loss: 15381.472 \tReconstruction loss: 11574.27 \tLatent loss: 3807.202\n",
      "17 Train total loss: 15062.358 \tReconstruction loss: 11345.041 \tLatent loss: 3717.3174\n",
      "18 Train total loss: 15274.543 \tReconstruction loss: 11572.569 \tLatent loss: 3701.9739\n",
      "19 Train total loss: 15209.078 \tReconstruction loss: 11550.312 \tLatent loss: 3658.7668\n",
      "20 Train total loss: 15043.446 \tReconstruction loss: 11276.41 \tLatent loss: 3767.036\n",
      "21 Train total loss: 15213.602 \tReconstruction loss: 11410.74 \tLatent loss: 3802.861\n",
      "22 Train total loss: 15146.271 \tReconstruction loss: 11396.164 \tLatent loss: 3750.107\n",
      "23% Train total loss: 15456.604 \tReconstruction loss: 11707.385 \tLatent loss: 3749.2192\n",
      "24 Train total loss: 15050.766 \tReconstruction loss: 11302.791 \tLatent loss: 3747.974\n",
      "25 Train total loss: 15098.101 \tReconstruction loss: 11316.377 \tLatent loss: 3781.7234\n",
      "26 Train total loss: 15023.202 \tReconstruction loss: 11245.395 \tLatent loss: 3777.8074\n",
      "27 Train total loss: 15029.207 \tReconstruction loss: 11281.891 \tLatent loss: 3747.3164\n",
      "28 Train total loss: 15063.65 \tReconstruction loss: 11332.639 \tLatent loss: 3731.0117\n",
      "29 Train total loss: 15117.21 \tReconstruction loss: 11423.174 \tLatent loss: 3694.0361\n",
      "30 Train total loss: 14896.504 \tReconstruction loss: 11247.385 \tLatent loss: 3649.1187\n",
      "31 Train total loss: 14697.039 \tReconstruction loss: 10981.949 \tLatent loss: 3715.0896\n",
      "32 Train total loss: 14581.863 \tReconstruction loss: 10940.234 \tLatent loss: 3641.6287\n",
      "33 Train total loss: 14865.08 \tReconstruction loss: 11211.611 \tLatent loss: 3653.4692\n",
      "34 Train total loss: 14562.459 \tReconstruction loss: 10863.664 \tLatent loss: 3698.7952\n",
      "35 Train total loss: 14439.026 \tReconstruction loss: 10787.197 \tLatent loss: 3651.829\n",
      "36 Train total loss: 14625.344 \tReconstruction loss: 10989.824 \tLatent loss: 3635.52\n",
      "37 Train total loss: 14917.131 \tReconstruction loss: 11337.549 \tLatent loss: 3579.5825\n",
      "38 Train total loss: 14803.545 \tReconstruction loss: 10966.771 \tLatent loss: 3836.7737\n",
      "39 Train total loss: 14903.611 \tReconstruction loss: 11194.932 \tLatent loss: 3708.6792\n",
      "40 Train total loss: 14411.297 \tReconstruction loss: 10721.691 \tLatent loss: 3689.605\n",
      "41 Train total loss: 15264.065 \tReconstruction loss: 11403.005 \tLatent loss: 3861.0608\n",
      "42 Train total loss: 15228.224 \tReconstruction loss: 11486.771 \tLatent loss: 3741.452\n",
      "43 Train total loss: 14956.844 \tReconstruction loss: 11150.229 \tLatent loss: 3806.615\n",
      "44 Train total loss: 14725.381 \tReconstruction loss: 11043.379 \tLatent loss: 3682.0024\n",
      "45 Train total loss: 15045.709 \tReconstruction loss: 11228.164 \tLatent loss: 3817.5444\n",
      "46 Train total loss: 15264.16 \tReconstruction loss: 11546.221 \tLatent loss: 3717.94\n",
      "47 Train total loss: 15237.579 \tReconstruction loss: 11511.145 \tLatent loss: 3726.4348\n",
      "48 Train total loss: 14730.812 \tReconstruction loss: 11056.217 \tLatent loss: 3674.5947\n",
      "49 Train total loss: 14991.898 \tReconstruction loss: 11204.305 \tLatent loss: 3787.5942\n"
     ]
    }
   ],
   "source": [
    "import numpy as np\n",
    "\n",
    "n_digits = 60\n",
    "n_epochs = 50\n",
    "batch_size = 150\n",
    "\n",
    "with tf.Session() as sess:\n",
    "    init.run()\n",
    "    for epoch in range(n_epochs):\n",
    "        n_batches = mnist.train.num_examples // batch_size\n",
    "        for iteration in range(n_batches):\n",
    "            print(\"\\r{}%\".format(100 * iteration // n_batches), end=\"\") \n",
    "            sys.stdout.flush()                                          \n",
    "            X_batch, y_batch = mnist.train.next_batch(batch_size)\n",
    "            sess.run(training_op, feed_dict={X: X_batch})\n",
    "        loss_val, reconstruction_loss_val, latent_loss_val = sess.run([loss, reconstruction_loss, latent_loss], feed_dict={X: X_batch}) # not shown\n",
    "        print(\"\\r{}\".format(epoch), \"Train total loss:\", loss_val, \"\\tReconstruction loss:\", reconstruction_loss_val, \"\\tLatent loss:\", latent_loss_val)  # not shown\n",
    "        saver.save(sess, \"./my_model_variational.ckpt\")  \n",
    "    \n",
    "    codings_rnd = np.random.normal(size=[n_digits, n_hidden3])\n",
    "    outputs_val = outputs.eval(feed_dict={hidden3: codings_rnd})"
   ]
  },
  {
   "cell_type": "code",
   "execution_count": 60,
   "metadata": {},
   "outputs": [
    {
     "data": {
      "image/png": "[encoded data removed]",
      "text/plain": [
       "<Figure size 1152x3600 with 60 Axes>"
      ]
     },
     "metadata": {
      "needs_background": "light"
     },
     "output_type": "display_data"
    }
   ],
   "source": [
    "plt.figure(figsize=(16, 50))\n",
    "for iteration in range(n_digits):\n",
    "    plt.subplot(n_digits, 10, iteration + 1)\n",
    "    plot_image(outputs_val[iteration])"
   ]
  },
  {
   "cell_type": "code",
   "execution_count": 69,
   "metadata": {},
   "outputs": [
    {
     "data": {
      "image/png": "[encoded data removed]",
      "text/plain": [
       "<Figure size 432x288 with 1 Axes>"
      ]
     },
     "metadata": {
      "needs_background": "light"
     },
     "output_type": "display_data"
    }
   ],
   "source": [
    "n_rows = 6\n",
    "n_cols = 10\n",
    "plot_multiple_images(outputs_val.reshape(-1, 28, 28), n_rows, n_cols)\n",
    "plt.show()"
   ]
  },
  {
   "cell_type": "code",
   "execution_count": 70,
   "metadata": {},
   "outputs": [],
   "source": [
    "latent_loss = 0.5 * tf.reduce_sum(tf.exp(hidden3_gamma) + tf.square(hidden3_mean) - 1 - hidden3_gamma)"
   ]
  },
  {
   "cell_type": "code",
   "execution_count": 71,
   "metadata": {},
   "outputs": [
    {
     "name": "stdout",
     "output_type": "stream",
     "text": [
      "INFO:tensorflow:Restoring parameters from ./my_model_variational.ckpt\n"
     ]
    }
   ],
   "source": [
    "n_digits = 3 \n",
    "X_test, y_test = mnist.test.next_batch(batch_size)\n",
    "codings = hidden3\n",
    "\n",
    "with tf.Session() as sess:\n",
    "    saver.restore(sess,\"./my_model_variational.ckpt\")\n",
    "    codings_val = codings.eval(feed_dict={X: X_batch})"
   ]
  },
  {
   "cell_type": "code",
   "execution_count": 72,
   "metadata": {},
   "outputs": [
    {
     "name": "stdout",
     "output_type": "stream",
     "text": [
      "INFO:tensorflow:Restoring parameters from ./my_model_variational.ckpt\n"
     ]
    }
   ],
   "source": [
    "with tf.Session() as sess:\n",
    "    saver.restore(sess,\"./my_model_variational.ckpt\")\n",
    "    codings_val = codings.eval(feed_dict={X:X_test})"
   ]
  },
  {
   "cell_type": "code",
   "execution_count": 75,
   "metadata": {},
   "outputs": [
    {
     "data": {
      "image/png": "[encoded data removed]",
      "text/plain": [
       "<Figure size 576x540 with 6 Axes>"
      ]
     },
     "metadata": {
      "needs_background": "light"
     },
     "output_type": "display_data"
    }
   ],
   "source": [
    "fig = plt.figure(figsize=(8, 2.5 * n_digits))\n",
    "for iteration in range(n_digits):\n",
    "    plt.subplot(n_digits, 2, 1 + 2 * iteration)\n",
    "    plot_image(X_test[iteration])\n",
    "    plt.subplot(n_digits, 2, 2 + 2 * iteration)\n",
    "    plot_image(outputs_val[iteration])"
   ]
  },
  {
   "cell_type": "code",
   "execution_count": 76,
   "metadata": {},
   "outputs": [
    {
     "name": "stdout",
     "output_type": "stream",
     "text": [
      "INFO:tensorflow:Restoring parameters from ./my_model_variational.ckpt\n"
     ]
    },
    {
     "data": {
      "image/png": "[encoded data removed]",
      "text/plain": [
       "<Figure size 792x324 with 6 Axes>"
      ]
     },
     "metadata": {
      "needs_background": "light"
     },
     "output_type": "display_data"
    },
    {
     "data": {
      "image/png": "[encoded data removed]",
      "text/plain": [
       "<Figure size 792x324 with 6 Axes>"
      ]
     },
     "metadata": {
      "needs_background": "light"
     },
     "output_type": "display_data"
    },
    {
     "data": {
      "image/png": "[encoded data removed]",
      "text/plain": [
       "<Figure size 792x324 with 6 Axes>"
      ]
     },
     "metadata": {
      "needs_background": "light"
     },
     "output_type": "display_data"
    },
    {
     "data": {
      "image/png": "[encoded data removed]",
      "text/plain": [
       "<Figure size 792x324 with 6 Axes>"
      ]
     },
     "metadata": {
      "needs_background": "light"
     },
     "output_type": "display_data"
    }
   ],
   "source": [
    "n_iterations = 3 \n",
    "n_digits = 6 \n",
    "codings_rnd = np.random.normal(size=[n_digits, n_hidden3])\n",
    "\n",
    "with tf.Session() as sess:\n",
    "    saver.restore(sess, \"./my_model_variational.ckpt\")\n",
    "    target_codings = np.roll(codings_rnd, -1, axis = 0)\n",
    "    for iteration in range(n_iterations + 1):\n",
    "        codings_interpolate = codings_rnd + (target_codings - codings_rnd) * iteration / n_iterations\n",
    "        outputs_val = outputs.eval(feed_dict={codings: codings_interpolate})\n",
    "        plt.figure(figsize=(11, 1.5*n_iterations))\n",
    "        for digit_index in range(n_digits):\n",
    "            plt.subplot(1,n_digits, digit_index +1)\n",
    "            plot_image(outputs_val[digit_index])\n",
    "        plt.show()"
   ]
  }
 ],
 "metadata": {
  "kernelspec": {
   "display_name": "Python 3",
   "language": "python",
   "name": "python3"
  },
  "language_info": {
   "codemirror_mode": {
    "name": "ipython",
    "version": 3
   },
   "file_extension": ".py",
   "mimetype": "text/x-python",
   "name": "python",
   "nbconvert_exporter": "python",
   "pygments_lexer": "ipython3",
   "version": "3.6.8"
  }
 },
 "nbformat": 4,
 "nbformat_minor": 4
}
